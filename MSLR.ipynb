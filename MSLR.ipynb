{
 "cells": [
  {
   "cell_type": "code",
   "execution_count": null,
   "metadata": {},
   "outputs": [],
   "source": [
    "import time\n",
    "import lightgbm as lgb\n",
    "import Mmetrics\n",
    "import os\n",
    "import numpy as np\n",
    "from read_data import read_pkl,lambdarank,evaluate_train,evaluate\n",
    "\n",
    "data_path = '_data/MSLR-WEB30K/Fold1/'\n",
    "dataset = read_pkl(data_path + 'binarized.pkl.npz')\n",
    "\n",
    "\n",
    "groups = {'tr':{}, 'te':{}, 'va':{}}\n",
    "\n",
    "groups['tr']['QualityScore2'] = np.zeros_like(dataset.trfm[:,132])\n",
    "groups['te']['QualityScore2'] = np.zeros_like(dataset.tefm[:,132])\n",
    "groups['va']['QualityScore2'] = np.zeros_like(dataset.vafm[:,132])\n",
    "groups['tr']['QualityScore2'][dataset.trfm[:,132]>10] = 1.\n",
    "groups['te']['QualityScore2'][dataset.tefm[:,132]>10] = 1.\n",
    "groups['va']['QualityScore2'][dataset.vafm[:,132]>10] = 1.\n",
    "\n",
    "\n",
    "groups['tr']['PageRank'] = np.zeros_like(dataset.trfm[:,129])\n",
    "groups['te']['PageRank'] = np.zeros_like(dataset.tefm[:,129])\n",
    "groups['va']['PageRank'] = np.zeros_like(dataset.vafm[:,129])\n",
    "groups['tr']['PageRank'][dataset.trfm[:,129]>1000] = 1.\n",
    "groups['te']['PageRank'][dataset.tefm[:,129]>1000] = 1.\n",
    "groups['va']['PageRank'][dataset.vafm[:,129]>1000] = 1.\n",
    "groups['tr']['PageRank'][dataset.trfm[:,129]>10000] = 2.\n",
    "groups['te']['PageRank'][dataset.tefm[:,129]>10000] = 2.\n",
    "groups['va']['PageRank'][dataset.vafm[:,129]>10000] = 2."
   ]
  },
  {
   "cell_type": "code",
   "execution_count": null,
   "metadata": {},
   "outputs": [],
   "source": [
    "dataset = read_pkl(data_path + 'binarized.normalized.pkl.npz')"
   ]
  },
  {
   "cell_type": "code",
   "execution_count": null,
   "metadata": {},
   "outputs": [],
   "source": [
    "from Mmetrics import *\n",
    "\n",
    "import LTR\n",
    "import datautil\n",
    "import torch\n",
    "\n",
    "ltrmodel = LTR.MSE_model(layers=[dataset.trfm.shape[1], 256, 256, 1], lr=0.001, optimizer=torch.optim.Adam, dropout=0.1)\n",
    "ltrmodel.fit(dataset, epochs=10, batch_size=100, verbose=True)\n",
    "y_pred = ltrmodel.predict(dataset.tefm, dataset.tedlr)\n",
    "LTRMetrics(dataset.telv, np.diff(dataset.tedlr), y_pred).NDCG(10)"
   ]
  },
  {
   "cell_type": "code",
   "execution_count": null,
   "metadata": {},
   "outputs": [],
   "source": [
    "import pandas as pd\n",
    "import pickle\n",
    "\n",
    "df = pd.DataFrame({'lv':dataset.telv, 'g':groups['te']['QualityScore2'], 'qid':np.repeat(np.arange(dataset.tedlr.shape[0]-1), np.diff(dataset.tedlr)), 'y_pred':y_pred})\n",
    "with open('MSLR_qs.df', 'wb') as f:\n",
    "    pickle.dump(df, f)\n",
    "    \n",
    "df = pd.DataFrame({'lv':dataset.telv, 'g':groups['te']['PageRank'], 'qid':np.repeat(np.arange(dataset.tedlr.shape[0]-1), np.diff(dataset.tedlr)), 'y_pred':y_pred})\n",
    "with open('MSLR_pr.df', 'wb') as f:\n",
    "    pickle.dump(df, f)"
   ]
  },
  {
   "cell_type": "code",
   "execution_count": null,
   "metadata": {},
   "outputs": [],
   "source": [
    "def subsample(ds, percent):\n",
    "    subsample_size = int((ds.dlr.shape[0]-1) * percent)\n",
    "    qids = np.random.choice(np.arange(ds.dlr.shape[0]-1), subsample_size)\n",
    "#     print(qids)\n",
    "    sds = {'lv':[], 'y_pred':[], 'qid':[], 'g':[], 'dlr':[0]}\n",
    "    for qid in qids:\n",
    "        s,e=ds.dlr[qid:qid+2]\n",
    "#         print(s,e)\n",
    "        sds['lv'].append(ds.lv[s:e])\n",
    "        sds['y_pred'].append(ds.y_pred[s:e])\n",
    "        sds['g'].append(ds.g[s:e])\n",
    "        sds['qid'].append(ds.qid[s:e])\n",
    "        sds['dlr'].append(sds['dlr'][-1]+e-s)\n",
    "    for k in ['lv', 'y_pred', 'g', 'qid']:\n",
    "        sds[k] = np.concatenate(sds[k])\n",
    "    sds['dlr'] = np.array(sds['dlr'])\n",
    "    return sds\n",
    "\n",
    "\n",
    "def df2ds(df_path):\n",
    "    with open(df_path, 'rb') as f:\n",
    "        df = pickle.load(f)\n",
    "    ds = df.to_dict(orient='list')\n",
    "    for k in ds:\n",
    "        ds[k] = np.array(ds[k])\n",
    "    ds['dlr'] = np.concatenate([np.zeros(1), np.where(np.diff(ds['qid'])==1)[0]+1, np.array([ds['qid'].shape[0]])]).astype(int)\n",
    "    return type('ltr', (object,), ds)\n",
    "\n",
    "\n",
    "def dict2ds(df_path):\n",
    "    with open(df_path, 'rb') as f:\n",
    "        ds = pickle.load(f)\n",
    "    return type('ltr', (object,), ds)"
   ]
  },
  {
   "cell_type": "code",
   "execution_count": null,
   "metadata": {},
   "outputs": [],
   "source": []
  },
  {
   "cell_type": "code",
   "execution_count": null,
   "metadata": {},
   "outputs": [],
   "source": [
    "def purify(ds):\n",
    "    lv, g, qids, y_pred, dlr = [], [], [], [], [0]\n",
    "    groups = np.unique(ds.g)\n",
    "    for qid in range(ds.dlr.shape[0] - 1):\n",
    "        s, e = ds.dlr[qid:qid+2]\n",
    "        if len(np.where(ds.lv[s:e]==4)[0]) == 0:\n",
    "#             print('no level 4,', qid)\n",
    "            continue\n",
    "        z_util = False\n",
    "        for group in groups:\n",
    "            if ds.lv[s:e][ds.g[s:e]==group].sum() < 5:\n",
    "#                 print(qid, group, ds.lv[s:e][ds.g[s:e]==group].sum())\n",
    "                z_util = True\n",
    "                break\n",
    "        if z_util:\n",
    "            continue\n",
    "        if e - s > 20:\n",
    "            argsorted = ds.y_pred[s:e].argsort()[::-1]\n",
    "            index = list(argsorted[:20])\n",
    "            z_util = np.where(ds.lv[s:e][argsorted] == 4)[0]\n",
    "            if argsorted[z_util[0]] not in index:\n",
    "                index.append(argsorted[z_util[0]])\n",
    "            for group in groups:\n",
    "                z_util = np.where((ds.g[s:e][argsorted] == group) & (ds.lv[s:e][argsorted] > 0))[0]\n",
    "                if len(z_util) > 0 and argsorted[z_util[0]] not in index:\n",
    "                    index.append(argsorted[z_util[0]])\n",
    "            index = np.array(index)\n",
    "        else:\n",
    "            index = np.arange(e - s)\n",
    "        \n",
    "        lv.append(ds.lv[s:e][index])\n",
    "        g.append(ds.g[s:e][index])\n",
    "        qids.append(ds.qid[s:e][index])\n",
    "        y_pred.append(ds.y_pred[s:e][index])\n",
    "        dlr.append(dlr[-1] + index.shape[0])\n",
    "        \n",
    "    purified = {'lv':np.concatenate(lv), 'g':np.concatenate(g), 'qid':np.concatenate(qids), 'y_pred':np.concatenate(y_pred), 'dlr':np.array(dlr)}\n",
    "    return purified\n",
    "\n",
    "\n",
    "ds = df2ds('MSLR_qs.df')\n",
    "purified = purify(ds)\n",
    "            \n",
    "with open('p_MSLR_qs.df', 'wb') as f:\n",
    "    pickle.dump(purified, f)\n",
    "            "
   ]
  },
  {
   "cell_type": "code",
   "execution_count": null,
   "metadata": {},
   "outputs": [],
   "source": [
    "ds = dict2ds('p_MSLR_qs.df')\n",
    "sds = subsample(ds,0.05)\n",
    "print(sds['dlr'].shape)\n",
    "with open('s_MSLR_qs.df', 'wb') as f:\n",
    "    pickle.dump(sds, f)"
   ]
  },
  {
   "cell_type": "code",
   "execution_count": null,
   "metadata": {},
   "outputs": [],
   "source": [
    "ds = dict2ds('p_MSLR_pr.df')\n",
    "sds = subsample(ds,0.05)\n",
    "print(sds['dlr'].shape)\n",
    "with open('s_MSLR_pr.df', 'wb') as f:\n",
    "    pickle.dump(sds, f)"
   ]
  },
  {
   "cell_type": "code",
   "execution_count": null,
   "metadata": {},
   "outputs": [],
   "source": [
    "\n",
    "ds = df2ds('MSLR_pr.df')\n",
    "purified = purify(ds)\n",
    "            \n",
    "with open('p_MSLR_pr.df', 'wb') as f:\n",
    "    pickle.dump(purified, f)\n",
    "    \n",
    "print(purified['dlr'].shape,purified['dlr'][-10:])"
   ]
  },
  {
   "cell_type": "code",
   "execution_count": null,
   "metadata": {},
   "outputs": [],
   "source": [
    "with open('MSLR_qs.df', 'wb') as f:\n",
    "    pickle.dump(df, f)"
   ]
  }
 ],
 "metadata": {
  "kernelspec": {
   "display_name": "Python 3",
   "language": "python",
   "name": "python3"
  },
  "language_info": {
   "codemirror_mode": {
    "name": "ipython",
    "version": 3
   },
   "file_extension": ".py",
   "mimetype": "text/x-python",
   "name": "python",
   "nbconvert_exporter": "python",
   "pygments_lexer": "ipython3",
   "version": "3.7.6"
  }
 },
 "nbformat": 4,
 "nbformat_minor": 4
}
