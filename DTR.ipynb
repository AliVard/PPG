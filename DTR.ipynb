{
 "cells": [
  {
   "cell_type": "code",
   "execution_count": null,
   "metadata": {},
   "outputs": [],
   "source": [
    "import numpy as np\n",
    "import pandas as pd\n",
    "import torch\n",
    "import torch.nn as nn\n",
    "import pickle\n",
    "from collections import defaultdict\n",
    "\n",
    "from torch.utils.data import Dataset, DataLoader\n",
    "from Mmetrics import *\n",
    "\n",
    "import LTR\n",
    "import datautil\n",
    "import permutationgraph\n",
    "import DTR\n",
    "import EEL\n",
    "import PPG\n",
    "import PL\n",
    "\n",
    "ds2020, _ = datautil.load_data(2020, verbose=True)\n",
    "ds2019, _ = datautil.load_data(2019, verbose=True)\n",
    "\n",
    "ltrmodel = LTR.MSE_model(layers=[ds2020.trfm.shape[1], 256, 256, 1], lr=0.001, optimizer=torch.optim.Adam, dropout=0.1)\n",
    "ltrmodel.fit(ds2020, epochs=10, batch_size=100, verbose=False)\n",
    "y_pred2020 = ltrmodel.predict(ds2020.tefm, ds2020.tedlr)\n",
    "print('LTR performance ndcg@10 for 2020:', LTRMetrics(ds2020.telv,np.diff(ds2020.tedlr),y_pred2020).NDCG(10))\n",
    "\n",
    "ltrmodel = LTR.MSE_model(layers=[ds2019.trfm.shape[1], 256, 256, 1], lr=0.001, optimizer=torch.optim.Adam, dropout=0.1)\n",
    "ltrmodel.fit(ds2019, epochs=10, batch_size=100, verbose=False)\n",
    "y_pred2019 = ltrmodel.predict(ds2019.tefm, ds2019.tedlr)\n",
    "print('LTR performance ndcg@10 for 2019:', LTRMetrics(ds2019.telv,np.diff(ds2019.tedlr),y_pred2019).NDCG(10))"
   ]
  },
  {
   "cell_type": "code",
   "execution_count": null,
   "metadata": {},
   "outputs": [],
   "source": [
    "from tqdm.notebook import trange\n",
    "\n",
    "def learn_one_PPG(qid, verbose, y_pred, g, dlr, epochs, lr, exposure, samples_cnt, sessions_cnt):\n",
    "    s, e = dlr[qid:qid+2]\n",
    "    y_pred_s, g_s, sorted_docs_s, dlr_s = \\\n",
    "        EEL.copy_sessions(y=y_pred[s:e], g=g[s:e], sorted_docs=y_pred[s:e].argsort()[::-1], sessions=sessions_cnt)\n",
    "\n",
    "    objective_ins = DTR.DTR(y_pred = y_pred_s, g = g_s, dlr = dlr_s, exposure=exposure)\n",
    "    learner = PPG.Learner(  PPG_mat=None, samples_cnt=samples_cnt, \n",
    "                                objective_ins=objective_ins, \n",
    "                                sorted_docs = sorted_docs_s, \n",
    "                                dlr = dlr_s,\n",
    "                                intra = np.arange(g_s.shape[0]),\n",
    "#                                 intra = g_s,\n",
    "                                inter = np.repeat(dlr_s[:-1], np.diff(dlr_s)))\n",
    "    vals = learner.fit(epochs, lr, verbose=verbose)\n",
    "    return vals\n",
    "\n",
    "\n",
    "def learn_all_PPG(y_pred, g, dlr, epochs, lr, exposure, samples_cnt, sessions_cnt):\n",
    "    sorted_docs = []\n",
    "    \n",
    "#     for qid in trange(dlr.shape[0] - 1, leave=False):\n",
    "    for qid in range(dlr.shape[0] - 1):\n",
    "        min_b = learn_one_PPG(qid, 0, y_pred, g, dlr, epochs, lr, exposure, samples_cnt, sessions_cnt)\n",
    "        sorted_docs.append(min_b)\n",
    "        \n",
    "\n",
    "    # print(ndcg_dtr(exposure, lv, np.concatenate(y_rerank), dlr, g, query_counts))\n",
    "    return sorted_docs"
   ]
  },
  {
   "cell_type": "code",
   "execution_count": null,
   "metadata": {},
   "outputs": [],
   "source": [
    "\n",
    "exposure2020 = np.array([1./np.log2(2+i) for i in range(1,np.diff(ds2020.tedlr).max()+2)])\n",
    "exposure2019 = np.array([1./np.log2(2+i) for i in range(1,np.diff(ds2019.tedlr).max()+2)])\n",
    "\n",
    "learn_one_PPG(91,2, y_pred2020, ds2020.teg, ds2020.tedlr, 10, 0.1, exposure=exposure2020,\n",
    "        samples_cnt=4, sessions_cnt=4)"
   ]
  },
  {
   "cell_type": "code",
   "execution_count": null,
   "metadata": {},
   "outputs": [],
   "source": [
    "learn_all_PPG(y_pred2020, ds2020.teg, ds2020.tedlr, 10, 0.1, exposure=exposure2020,\n",
    "        samples_cnt=4, sessions_cnt=4)"
   ]
  }
 ],
 "metadata": {
  "kernelspec": {
   "display_name": "Python 3",
   "language": "python",
   "name": "python3"
  },
  "language_info": {
   "codemirror_mode": {
    "name": "ipython",
    "version": 3
   },
   "file_extension": ".py",
   "mimetype": "text/x-python",
   "name": "python",
   "nbconvert_exporter": "python",
   "pygments_lexer": "ipython3",
   "version": "3.7.3"
  }
 },
 "nbformat": 4,
 "nbformat_minor": 4
}
