{
 "cells": [
  {
   "cell_type": "code",
   "execution_count": 1,
   "metadata": {},
   "outputs": [],
   "source": [
    "%load_ext autoreload\n",
    "%autoreload 2\n",
    "\n",
    "import numpy as np\n",
    "import pandas as pd\n",
    "import torch\n",
    "import torch.nn as nn\n",
    "import pickle\n",
    "from collections import defaultdict\n",
    "\n",
    "from torch.utils.data import Dataset, DataLoader\n",
    "from Mmetrics import *\n",
    "\n",
    "import LTR\n",
    "import datautil\n",
    "import permutationgraph\n",
    "import DTR\n",
    "import EEL\n",
    "import PPG\n",
    "import PL\n",
    "\n",
    "def df2ds(df_path):\n",
    "    with open(df_path, 'rb') as f:\n",
    "        df = pickle.load(f)\n",
    "    ds = df.to_dict(orient='list')\n",
    "    for k in ds:\n",
    "        ds[k] = np.array(ds[k])\n",
    "    ds['dlr'] = np.concatenate([np.zeros(1), np.where(np.diff(ds['qid'])==1)[0]+1, np.array([ds['qid'].shape[0]])]).astype(int)\n",
    "    return type('ltr', (object,), ds)\n",
    "\n",
    "\n",
    "def dict2ds(df_path):\n",
    "    with open(df_path, 'rb') as f:\n",
    "        ds = pickle.load(f)\n",
    "    return type('ltr', (object,), ds)\n",
    "\n",
    "ds2019 = df2ds('nLTR2019.df')\n",
    "ds2020 = df2ds('nLTR2020.df')\n",
    "dsmslr = dict2ds('nLTRMSLR_dict.df')\n",
    "\n",
    "def valid_queries(ds):\n",
    "    dtr, eel = [], []\n",
    "    groups = np.unique(ds.g)\n",
    "    for qid in range(ds.dlr.shape[0] - 1):\n",
    "        s, e = ds.dlr[qid:qid+2]\n",
    "        lv = ds.lv[s:e]\n",
    "        g = ds.g[s:e]\n",
    "        z = False\n",
    "        for group in groups:\n",
    "            if lv[g==group].sum() == 0:\n",
    "                z = True\n",
    "                break\n",
    "        if not z:\n",
    "            dtr.append(qid)\n",
    "        if len(np.unique(ds.g[s:e])) > 1:\n",
    "            eel.append(qid)\n",
    "            \n",
    "    return {'DTR':np.array(dtr), 'EEL':np.array(eel)}\n",
    "\n",
    "ds2019.valids = valid_queries(ds2019)\n",
    "ds2020.valids = valid_queries(ds2020)\n",
    "dsmslr.valids = {'EEL':np.arange(dsmslr.dlr.shape[0]-1), 'DTR':np.arange(dsmslr.dlr.shape[0]-1)}\n",
    "\n",
    "def evaluate_one(metric, qid, lv, g, dlr, output_permutation, exposure, sessions_cnt):\n",
    "    s, e = dlr[qid:qid+2]\n",
    "    permutation = output_permutation[qid]\n",
    "    lv_s, g_s, sorted_docs_s, dlr_s = \\\n",
    "        EEL.copy_sessions(y=lv[s:e], g=g[s:e], sorted_docs=lv[s:e].argsort()[::-1], sessions=sessions_cnt)\n",
    "    \n",
    "    if metric == 'EEL':\n",
    "        objective_ins = EEL.EEL(y_pred = lv_s, g = g_s, dlr = dlr_s, exposure=exposure, grade_levels = 2)\n",
    "    else:\n",
    "        objective_ins = DTR.DTR(y_pred = lv_s, g = g_s, dlr = dlr_s, exposure=exposure)\n",
    "        \n",
    "    \n",
    "    osl = e - s\n",
    "    argsort = lv[s:e].argsort()[::-1]\n",
    "    idcg = ((2.**lv[s:e][argsort][:min(osl,10)] - 1.) / (np.log2(2+np.arange(min(osl,10))))).sum()\n",
    "    ndcg = 0\n",
    "    for i in range(sessions_cnt):\n",
    "        ndcg += ((2.**lv[s:e][permutation[i*osl:(i+1)*osl]-(i*osl)][:min(osl,10)] - 1.) / (np.log2(2+np.arange(min(osl,10))))).sum() / idcg\n",
    "        \n",
    "    return objective_ins.eval(permutation), ndcg / sessions_cnt\n",
    " \n",
    "def evaluate_all(metric, valids, lv, g, dlr, output_permutation, exposure, sessions_cnt):\n",
    "    eel_res, eer_res, eed_res, ndcgs = [], [], [], []\n",
    "#     for qid in range(dlr.shape[0] - 1):\n",
    "    for qid in valids:\n",
    "        s,e = dlr[qid:qid+2]\n",
    "#         if len(np.unique(g[s:e])) == 1:\n",
    "#             continue\n",
    "        out1, ndcg = evaluate_one(metric, qid, lv, g, dlr, output_permutation, exposure, sessions_cnt)\n",
    "#         eel, eer, eed = out1\n",
    "        eel = out1\n",
    "        eel_res.append(eel)\n",
    "#         eer_res.append(eer)\n",
    "#         eed_res.append(eed)\n",
    "        ndcgs.append(ndcg)\n",
    "    return np.array(eel_res), np.array(ndcgs)\n",
    "#     return np.array(eel_res), np.array(eer_res), np.array(eed_res), np.array(ndcgs)\n",
    "\n",
    "def estimated_evaluate_one(qid, lv, g, dlr, output_permutation, exposure, sessions_cnt):\n",
    "    s, e = dlr[qid:qid+2]\n",
    "    permutation = output_permutation[qid]\n",
    "    lv_s, g_s, sorted_docs_s, dlr_s = \\\n",
    "        EEL.copy_sessions(y=lv[s:e], g=g[s:e], sorted_docs=lv[s:e].argsort()[::-1], sessions=sessions_cnt)\n",
    "    objective_ins = EEL.EEL(y_pred = lv_s, g = g_s, dlr = dlr_s, exposure=exposure, grade_levels = 5)\n",
    "    return objective_ins.eval_detailed(permutation)\n",
    " \n",
    "def estimated_evaluate_all(lv, g, dlr, output_permutation, exposure, sessions_cnt):\n",
    "    eel_res, eer_res, eed_res = [], [], []\n",
    "    for qid in range(dlr.shape[0] - 1):\n",
    "        s,e = ds.tedlr[qid:qid+2]\n",
    "        if len(np.unique(g[s:e])) == 1:\n",
    "            continue\n",
    "        eel, eer, eed = estimated_evaluate_one(qid, lv, g, dlr, output_permutation, exposure, sessions_cnt)\n",
    "        eel_res.append(eel)\n",
    "        eer_res.append(eer)\n",
    "        eed_res.append(eed)\n",
    "    return np.array(eel_res), np.array(eer_res), np.array(eed_res)"
   ]
  },
  {
   "cell_type": "code",
   "execution_count": 2,
   "metadata": {},
   "outputs": [],
   "source": [
    "\n",
    "import matplotlib as mpl\n",
    "import matplotlib.pyplot as plt\n",
    "# mpl.rcParams['pdf.fonttype'] = 42\n",
    "# mpl.use('pgf')\n",
    "# mpl.rc('font',family='Times New Roman')\n",
    "\n",
    "\n",
    "\n",
    "legends = [True, True]\n",
    "\n",
    "def plot_per_sessions(title, df):\n",
    "    df = df.loc[:,['learner', 'sessions', 'Fairness', 'NDCG']]\n",
    "    ptbl = df.pivot_table(index='sessions', columns='learner', values=['Fairness', 'NDCG'])\n",
    "\n",
    "    # print(ptbl.Fairness)\n",
    "    if len(ptbl.Fairness.columns) < 3:\n",
    "        return\n",
    "    \n",
    "    global legends\n",
    "    legend_ind = 0\n",
    "    if title[2]:\n",
    "        legend_ind = 1\n",
    "    ax = ptbl.Fairness.rename(columns={'PL_nointra':'PL', 'PPG_nointra':'PPG', 'PPG_intra': 'PPG + intra'})\\\n",
    "        [['PL', 'PPG', 'PPG + intra']]\\\n",
    "        .plot(fontsize=22, xlabel='', legend=legends[legend_ind], title=f'Fairness_{title[0]}_{title[1]}_{title[2]}')\n",
    "    if legends[legend_ind]:\n",
    "        plt.legend(fontsize=24)\n",
    "        legends[legend_ind] = False\n",
    "    # ptbl.NDCG.plot()\n",
    "#     fig = ax.get_figure()\n",
    "#     fig.savefig(f'../sections/figure/Fairness_{title[0]}_{title[1]}_{title[2]}.pdf',bbox_inches='tight', pad_inches=0)\n",
    "#     plt.close()\n",
    "    \n",
    "    ndcg_ylim = {2019:(0.745,0.82), 2020:(0.335, 0.397)}\n",
    "    ax = ptbl.NDCG.rename(columns={'PL_nointra':'PL', 'PPG_nointra':'PPG', 'PPG_intra': 'PPG + intra'})\\\n",
    "        [['PL', 'PPG', 'PPG + intra']]\\\n",
    "        .plot(fontsize=22, xlabel='', ylim=ndcg_ylim[title[0]] if not title[2] else None, legend=False, title=f'NDCG_{title[0]}_{title[1]}_{title[2]}')\n",
    "    # plt.legend(fontsize=24) \n",
    "    # ptbl.NDCG.plot()\n",
    "#     fig = ax.get_figure()\n",
    "#     fig.savefig(f'../sections/figure/NDCG_{title[0]}_{title[1]}_{title[2]}.pdf',bbox_inches='tight', pad_inches=0)\n",
    "#     plt.close()\n"
   ]
  },
  {
   "cell_type": "code",
   "execution_count": 23,
   "metadata": {},
   "outputs": [],
   "source": [
    "import pickle\n",
    "with open('trec_32_PL.pkl', 'rb') as f:\n",
    "    df_PL = pickle.load(f)\n",
    "\n",
    "with open('trec_32_new.pkl', 'rb') as f:\n",
    "    df_PPG = pickle.load(f)\n",
    "\n",
    "df = df_PL.append(df_PPG, ignore_index=True)"
   ]
  },
  {
   "cell_type": "code",
   "execution_count": 29,
   "metadata": {},
   "outputs": [],
   "source": [
    "def test(validid):\n",
    "    qid = ds2020.valids['DTR'][validid]\n",
    "    s, e = ds2020.dlr[qid:qid+2]\n",
    "\n",
    "    # print(lv_1[qid])\n",
    "    # for i in range(4):\n",
    "    #     print('\\t', lv_4[qid][i*(e-s):(i+1)*(e-s)] - i*(e-s))\n",
    "\n",
    "\n",
    "    exposure = np.array([1./np.log2(2+i) for i in range(1,np.diff(ds2020.dlr).max()+2)])\n",
    "\n",
    "    lv_s, g_s, sorted_docs_s, dlr_s = \\\n",
    "            EEL.copy_sessions(y=ds2020.lv[s:e], g=ds2020.g[s:e], sorted_docs=ds2020.lv[s:e].argsort()[::-1], sessions=4)\n",
    "    y_s, g_s, sorted_docs_s, dlr_s = \\\n",
    "            EEL.copy_sessions(y=ds2020.y_pred[s:e], g=ds2020.g[s:e], sorted_docs=ds2020.lv[s:e].argsort()[::-1], sessions=4)\n",
    "\n",
    "\n",
    "    objective_ins_4 = DTR.DTR(y_pred = lv_s, g = g_s, dlr = dlr_s, exposure=exposure)\n",
    "    objective_ins_1 = DTR.DTR(y_pred = ds2020.lv[s:e], g = ds2020.g[s:e], dlr = np.array([0,e-s]), exposure=exposure)\n",
    "    print('true labels:')\n",
    "    print(qid, objective_ins_1.eval(lv_1[qid]), objective_ins_4.eval(lv_4[qid]))\n",
    "\n",
    "    for i in range(4):\n",
    "        print('\\t', objective_ins_1.eval(lv_4[qid][i*(e-s):(i+1)*(e-s)] - i*(e-s)))\n",
    "       \n",
    "    print('ltr output:')\n",
    "    print(qid, objective_ins_1.eval(y_1[qid]), objective_ins_4.eval(y_4[qid]))\n",
    "\n",
    "    for i in range(4):\n",
    "        print('\\t', objective_ins_1.eval(y_4[qid][i*(e-s):(i+1)*(e-s)] - i*(e-s)))\n",
    "    \n",
    "    objective_ins_4_y = DTR.DTR(y_pred = y_s, g = g_s, dlr = dlr_s, exposure=exposure)\n",
    "    objective_ins_1_y = DTR.DTR(y_pred = ds2020.y_pred[s:e], g = ds2020.g[s:e], dlr = np.array([0,e-s]), exposure=exposure)\n",
    "    \n",
    "    print('estimated fairness:')\n",
    "    print(qid, objective_ins_1_y.eval(y_1[qid]), objective_ins_4_y.eval(y_4[qid]))\n",
    "\n",
    "    for i in range(4):\n",
    "        print('\\t', objective_ins_4_y.eval(y_4[qid][i*(e-s):(i+1)*(e-s)] - i*(e-s)))"
   ]
  },
  {
   "cell_type": "code",
   "execution_count": null,
   "metadata": {},
   "outputs": [],
   "source": []
  },
  {
   "cell_type": "code",
   "execution_count": 3,
   "metadata": {},
   "outputs": [
    {
     "data": {
      "text/plain": [
       "dict_keys(['nointra_ltroutput_1_1_mslr_EEL', 'nointra_PL_4_1_mslr_EEL', 'nointra_RAND_4_1_mslr_DTR', 'nointra_PPG_1_1_mslr_DTR', 'nointra_ltroutput_1_1_mslr_DTR', 'nointra_PL_4_1_mslr_DTR', 'nointra_RAND_4_1_mslr_EEL', 'nointra_PPG_1_1_mslr_EEL', 'intra_PPG_4_1_mslr_EEL', 'nointra_ltroutput_2_1_mslr_EEL', 'nointra_PL_32_1_mslr_DTR', 'nointra_ltroutput_8_1_mslr_DTR', 'nointra_PL_16_1_mslr_EEL', 'nointra_PPG_2_1_mslr_DTR', 'nointra_ltroutput_2_1_mslr_DTR', 'intra_PPG_4_1_mslr_DTR', 'nointra_ltroutput_8_1_mslr_EEL', 'nointra_PL_32_1_mslr_EEL', 'nointra_PL_16_1_mslr_DTR', 'nointra_PPG_2_1_mslr_EEL', 'nointra_PL_2_1_mslr_EEL', 'nointra_RAND_2_1_mslr_DTR', 'nointra_ltroutput_32_1_mslr_EEL', 'nointra_PL_8_1_mslr_DTR', 'nointra_RAND_8_1_mslr_EEL', 'nointra_ltroutput_16_1_mslr_DTR', 'intra_PPG_1_1_mslr_EEL', 'nointra_PL_2_1_mslr_DTR', 'nointra_RAND_2_1_mslr_EEL', 'nointra_ltroutput_32_1_mslr_DTR', 'nointra_PL_8_1_mslr_EEL', 'nointra_RAND_8_1_mslr_DTR', 'nointra_ltroutput_16_1_mslr_EEL', 'intra_PPG_1_1_mslr_DTR', 'nointra_PL_1_1_mslr_EEL', 'nointra_PPG_4_1_mslr_DTR', 'nointra_RAND_1_1_mslr_DTR', 'intra_PPG_2_1_mslr_EEL', 'nointra_ltroutput_4_1_mslr_EEL', 'nointra_RAND_32_1_mslr_EEL', 'nointra_RAND_16_1_mslr_DTR', 'nointra_PL_1_1_mslr_DTR', 'nointra_PPG_4_1_mslr_EEL', 'nointra_RAND_1_1_mslr_EEL', 'nointra_ltroutput_4_1_mslr_DTR', 'intra_PPG_2_1_mslr_DTR', 'nointra_RAND_32_1_mslr_DTR', 'nointra_RAND_16_1_mslr_EEL'])"
      ]
     },
     "execution_count": 3,
     "metadata": {},
     "output_type": "execute_result"
    }
   ],
   "source": [
    "import pickle\n",
    "import os\n",
    "\n",
    "def read_results(directory = '/ivi/ilps/personal/avardas/_data/PPG'):\n",
    "    files = os.listdir(directory)\n",
    "    res = {}\n",
    "    for file in files:\n",
    "        if 'pkl' not in file:\n",
    "            continue\n",
    "        with open(f'{directory}/{file}', 'rb') as f:\n",
    "            res[file[:-12]] = pickle.load(f)\n",
    "    return res\n",
    "    \n",
    "res = read_results(directory = '/ivi/ilps/personal/avardas/_data/PPG/n/mslr')\n",
    "res.keys()"
   ]
  },
  {
   "cell_type": "code",
   "execution_count": 37,
   "metadata": {},
   "outputs": [
    {
     "name": "stdout",
     "output_type": "stream",
     "text": [
      "dict_keys(['2020_0.1_16_0', '2019_0.1_16_0', '2020_0.1_16_1', '2019_0.1_16_1'])\n"
     ]
    }
   ],
   "source": [
    "print(res['intra_PPG_4_1_DTR'].keys()) "
   ]
  },
  {
   "cell_type": "code",
   "execution_count": 4,
   "metadata": {},
   "outputs": [
    {
     "data": {
      "application/vnd.jupyter.widget-view+json": {
       "model_id": "",
       "version_major": 2,
       "version_minor": 0
      },
      "text/plain": [
       "HBox(children=(FloatProgress(value=0.0, max=48.0), HTML(value='')))"
      ]
     },
     "metadata": {},
     "output_type": "display_data"
    },
    {
     "data": {
      "application/vnd.jupyter.widget-view+json": {
       "model_id": "",
       "version_major": 2,
       "version_minor": 0
      },
      "text/plain": [
       "HBox(children=(FloatProgress(value=0.0, max=4.0), HTML(value='')))"
      ]
     },
     "metadata": {},
     "output_type": "display_data"
    },
    {
     "data": {
      "application/vnd.jupyter.widget-view+json": {
       "model_id": "",
       "version_major": 2,
       "version_minor": 0
      },
      "text/plain": [
       "HBox(children=(FloatProgress(value=0.0, max=4.0), HTML(value='')))"
      ]
     },
     "metadata": {},
     "output_type": "display_data"
    },
    {
     "data": {
      "application/vnd.jupyter.widget-view+json": {
       "model_id": "",
       "version_major": 2,
       "version_minor": 0
      },
      "text/plain": [
       "HBox(children=(FloatProgress(value=0.0, max=4.0), HTML(value='')))"
      ]
     },
     "metadata": {},
     "output_type": "display_data"
    },
    {
     "data": {
      "application/vnd.jupyter.widget-view+json": {
       "model_id": "",
       "version_major": 2,
       "version_minor": 0
      },
      "text/plain": [
       "HBox(children=(FloatProgress(value=0.0, max=4.0), HTML(value='')))"
      ]
     },
     "metadata": {},
     "output_type": "display_data"
    },
    {
     "data": {
      "application/vnd.jupyter.widget-view+json": {
       "model_id": "",
       "version_major": 2,
       "version_minor": 0
      },
      "text/plain": [
       "HBox(children=(FloatProgress(value=0.0, max=4.0), HTML(value='')))"
      ]
     },
     "metadata": {},
     "output_type": "display_data"
    },
    {
     "data": {
      "application/vnd.jupyter.widget-view+json": {
       "model_id": "",
       "version_major": 2,
       "version_minor": 0
      },
      "text/plain": [
       "HBox(children=(FloatProgress(value=0.0, max=4.0), HTML(value='')))"
      ]
     },
     "metadata": {},
     "output_type": "display_data"
    },
    {
     "data": {
      "application/vnd.jupyter.widget-view+json": {
       "model_id": "",
       "version_major": 2,
       "version_minor": 0
      },
      "text/plain": [
       "HBox(children=(FloatProgress(value=0.0, max=4.0), HTML(value='')))"
      ]
     },
     "metadata": {},
     "output_type": "display_data"
    },
    {
     "data": {
      "application/vnd.jupyter.widget-view+json": {
       "model_id": "",
       "version_major": 2,
       "version_minor": 0
      },
      "text/plain": [
       "HBox(children=(FloatProgress(value=0.0, max=4.0), HTML(value='')))"
      ]
     },
     "metadata": {},
     "output_type": "display_data"
    },
    {
     "data": {
      "application/vnd.jupyter.widget-view+json": {
       "model_id": "",
       "version_major": 2,
       "version_minor": 0
      },
      "text/plain": [
       "HBox(children=(FloatProgress(value=0.0, max=4.0), HTML(value='')))"
      ]
     },
     "metadata": {},
     "output_type": "display_data"
    },
    {
     "data": {
      "application/vnd.jupyter.widget-view+json": {
       "model_id": "",
       "version_major": 2,
       "version_minor": 0
      },
      "text/plain": [
       "HBox(children=(FloatProgress(value=0.0, max=4.0), HTML(value='')))"
      ]
     },
     "metadata": {},
     "output_type": "display_data"
    },
    {
     "data": {
      "application/vnd.jupyter.widget-view+json": {
       "model_id": "",
       "version_major": 2,
       "version_minor": 0
      },
      "text/plain": [
       "HBox(children=(FloatProgress(value=0.0, max=4.0), HTML(value='')))"
      ]
     },
     "metadata": {},
     "output_type": "display_data"
    },
    {
     "data": {
      "application/vnd.jupyter.widget-view+json": {
       "model_id": "",
       "version_major": 2,
       "version_minor": 0
      },
      "text/plain": [
       "HBox(children=(FloatProgress(value=0.0, max=4.0), HTML(value='')))"
      ]
     },
     "metadata": {},
     "output_type": "display_data"
    },
    {
     "data": {
      "application/vnd.jupyter.widget-view+json": {
       "model_id": "",
       "version_major": 2,
       "version_minor": 0
      },
      "text/plain": [
       "HBox(children=(FloatProgress(value=0.0, max=4.0), HTML(value='')))"
      ]
     },
     "metadata": {},
     "output_type": "display_data"
    },
    {
     "data": {
      "application/vnd.jupyter.widget-view+json": {
       "model_id": "",
       "version_major": 2,
       "version_minor": 0
      },
      "text/plain": [
       "HBox(children=(FloatProgress(value=0.0, max=4.0), HTML(value='')))"
      ]
     },
     "metadata": {},
     "output_type": "display_data"
    },
    {
     "data": {
      "application/vnd.jupyter.widget-view+json": {
       "model_id": "",
       "version_major": 2,
       "version_minor": 0
      },
      "text/plain": [
       "HBox(children=(FloatProgress(value=0.0, max=4.0), HTML(value='')))"
      ]
     },
     "metadata": {},
     "output_type": "display_data"
    },
    {
     "data": {
      "application/vnd.jupyter.widget-view+json": {
       "model_id": "",
       "version_major": 2,
       "version_minor": 0
      },
      "text/plain": [
       "HBox(children=(FloatProgress(value=0.0, max=4.0), HTML(value='')))"
      ]
     },
     "metadata": {},
     "output_type": "display_data"
    },
    {
     "data": {
      "application/vnd.jupyter.widget-view+json": {
       "model_id": "",
       "version_major": 2,
       "version_minor": 0
      },
      "text/plain": [
       "HBox(children=(FloatProgress(value=0.0, max=4.0), HTML(value='')))"
      ]
     },
     "metadata": {},
     "output_type": "display_data"
    },
    {
     "data": {
      "application/vnd.jupyter.widget-view+json": {
       "model_id": "",
       "version_major": 2,
       "version_minor": 0
      },
      "text/plain": [
       "HBox(children=(FloatProgress(value=0.0, max=3.0), HTML(value='')))"
      ]
     },
     "metadata": {},
     "output_type": "display_data"
    },
    {
     "data": {
      "application/vnd.jupyter.widget-view+json": {
       "model_id": "",
       "version_major": 2,
       "version_minor": 0
      },
      "text/plain": [
       "HBox(children=(FloatProgress(value=0.0, max=4.0), HTML(value='')))"
      ]
     },
     "metadata": {},
     "output_type": "display_data"
    },
    {
     "data": {
      "application/vnd.jupyter.widget-view+json": {
       "model_id": "",
       "version_major": 2,
       "version_minor": 0
      },
      "text/plain": [
       "HBox(children=(FloatProgress(value=0.0, max=4.0), HTML(value='')))"
      ]
     },
     "metadata": {},
     "output_type": "display_data"
    },
    {
     "data": {
      "application/vnd.jupyter.widget-view+json": {
       "model_id": "",
       "version_major": 2,
       "version_minor": 0
      },
      "text/plain": [
       "HBox(children=(FloatProgress(value=0.0, max=4.0), HTML(value='')))"
      ]
     },
     "metadata": {},
     "output_type": "display_data"
    },
    {
     "data": {
      "application/vnd.jupyter.widget-view+json": {
       "model_id": "",
       "version_major": 2,
       "version_minor": 0
      },
      "text/plain": [
       "HBox(children=(FloatProgress(value=0.0, max=4.0), HTML(value='')))"
      ]
     },
     "metadata": {},
     "output_type": "display_data"
    },
    {
     "data": {
      "application/vnd.jupyter.widget-view+json": {
       "model_id": "",
       "version_major": 2,
       "version_minor": 0
      },
      "text/plain": [
       "HBox(children=(FloatProgress(value=0.0, max=4.0), HTML(value='')))"
      ]
     },
     "metadata": {},
     "output_type": "display_data"
    },
    {
     "data": {
      "application/vnd.jupyter.widget-view+json": {
       "model_id": "",
       "version_major": 2,
       "version_minor": 0
      },
      "text/plain": [
       "HBox(children=(FloatProgress(value=0.0, max=4.0), HTML(value='')))"
      ]
     },
     "metadata": {},
     "output_type": "display_data"
    },
    {
     "data": {
      "application/vnd.jupyter.widget-view+json": {
       "model_id": "",
       "version_major": 2,
       "version_minor": 0
      },
      "text/plain": [
       "HBox(children=(FloatProgress(value=0.0, max=4.0), HTML(value='')))"
      ]
     },
     "metadata": {},
     "output_type": "display_data"
    },
    {
     "data": {
      "application/vnd.jupyter.widget-view+json": {
       "model_id": "",
       "version_major": 2,
       "version_minor": 0
      },
      "text/plain": [
       "HBox(children=(FloatProgress(value=0.0, max=4.0), HTML(value='')))"
      ]
     },
     "metadata": {},
     "output_type": "display_data"
    },
    {
     "data": {
      "application/vnd.jupyter.widget-view+json": {
       "model_id": "",
       "version_major": 2,
       "version_minor": 0
      },
      "text/plain": [
       "HBox(children=(FloatProgress(value=0.0, max=4.0), HTML(value='')))"
      ]
     },
     "metadata": {},
     "output_type": "display_data"
    },
    {
     "data": {
      "application/vnd.jupyter.widget-view+json": {
       "model_id": "",
       "version_major": 2,
       "version_minor": 0
      },
      "text/plain": [
       "HBox(children=(FloatProgress(value=0.0, max=4.0), HTML(value='')))"
      ]
     },
     "metadata": {},
     "output_type": "display_data"
    },
    {
     "data": {
      "application/vnd.jupyter.widget-view+json": {
       "model_id": "",
       "version_major": 2,
       "version_minor": 0
      },
      "text/plain": [
       "HBox(children=(FloatProgress(value=0.0, max=4.0), HTML(value='')))"
      ]
     },
     "metadata": {},
     "output_type": "display_data"
    },
    {
     "data": {
      "application/vnd.jupyter.widget-view+json": {
       "model_id": "",
       "version_major": 2,
       "version_minor": 0
      },
      "text/plain": [
       "HBox(children=(FloatProgress(value=0.0, max=4.0), HTML(value='')))"
      ]
     },
     "metadata": {},
     "output_type": "display_data"
    },
    {
     "data": {
      "application/vnd.jupyter.widget-view+json": {
       "model_id": "",
       "version_major": 2,
       "version_minor": 0
      },
      "text/plain": [
       "HBox(children=(FloatProgress(value=0.0, max=4.0), HTML(value='')))"
      ]
     },
     "metadata": {},
     "output_type": "display_data"
    },
    {
     "data": {
      "application/vnd.jupyter.widget-view+json": {
       "model_id": "",
       "version_major": 2,
       "version_minor": 0
      },
      "text/plain": [
       "HBox(children=(FloatProgress(value=0.0, max=4.0), HTML(value='')))"
      ]
     },
     "metadata": {},
     "output_type": "display_data"
    },
    {
     "data": {
      "application/vnd.jupyter.widget-view+json": {
       "model_id": "",
       "version_major": 2,
       "version_minor": 0
      },
      "text/plain": [
       "HBox(children=(FloatProgress(value=0.0, max=4.0), HTML(value='')))"
      ]
     },
     "metadata": {},
     "output_type": "display_data"
    },
    {
     "data": {
      "application/vnd.jupyter.widget-view+json": {
       "model_id": "",
       "version_major": 2,
       "version_minor": 0
      },
      "text/plain": [
       "HBox(children=(FloatProgress(value=0.0, max=4.0), HTML(value='')))"
      ]
     },
     "metadata": {},
     "output_type": "display_data"
    },
    {
     "data": {
      "application/vnd.jupyter.widget-view+json": {
       "model_id": "",
       "version_major": 2,
       "version_minor": 0
      },
      "text/plain": [
       "HBox(children=(FloatProgress(value=0.0, max=4.0), HTML(value='')))"
      ]
     },
     "metadata": {},
     "output_type": "display_data"
    },
    {
     "data": {
      "application/vnd.jupyter.widget-view+json": {
       "model_id": "",
       "version_major": 2,
       "version_minor": 0
      },
      "text/plain": [
       "HBox(children=(FloatProgress(value=0.0, max=3.0), HTML(value='')))"
      ]
     },
     "metadata": {},
     "output_type": "display_data"
    },
    {
     "data": {
      "application/vnd.jupyter.widget-view+json": {
       "model_id": "",
       "version_major": 2,
       "version_minor": 0
      },
      "text/plain": [
       "HBox(children=(FloatProgress(value=0.0, max=4.0), HTML(value='')))"
      ]
     },
     "metadata": {},
     "output_type": "display_data"
    },
    {
     "data": {
      "application/vnd.jupyter.widget-view+json": {
       "model_id": "",
       "version_major": 2,
       "version_minor": 0
      },
      "text/plain": [
       "HBox(children=(FloatProgress(value=0.0, max=4.0), HTML(value='')))"
      ]
     },
     "metadata": {},
     "output_type": "display_data"
    },
    {
     "data": {
      "application/vnd.jupyter.widget-view+json": {
       "model_id": "",
       "version_major": 2,
       "version_minor": 0
      },
      "text/plain": [
       "HBox(children=(FloatProgress(value=0.0, max=4.0), HTML(value='')))"
      ]
     },
     "metadata": {},
     "output_type": "display_data"
    },
    {
     "data": {
      "application/vnd.jupyter.widget-view+json": {
       "model_id": "",
       "version_major": 2,
       "version_minor": 0
      },
      "text/plain": [
       "HBox(children=(FloatProgress(value=0.0, max=4.0), HTML(value='')))"
      ]
     },
     "metadata": {},
     "output_type": "display_data"
    },
    {
     "data": {
      "application/vnd.jupyter.widget-view+json": {
       "model_id": "",
       "version_major": 2,
       "version_minor": 0
      },
      "text/plain": [
       "HBox(children=(FloatProgress(value=0.0, max=4.0), HTML(value='')))"
      ]
     },
     "metadata": {},
     "output_type": "display_data"
    },
    {
     "data": {
      "application/vnd.jupyter.widget-view+json": {
       "model_id": "",
       "version_major": 2,
       "version_minor": 0
      },
      "text/plain": [
       "HBox(children=(FloatProgress(value=0.0, max=4.0), HTML(value='')))"
      ]
     },
     "metadata": {},
     "output_type": "display_data"
    },
    {
     "data": {
      "application/vnd.jupyter.widget-view+json": {
       "model_id": "",
       "version_major": 2,
       "version_minor": 0
      },
      "text/plain": [
       "HBox(children=(FloatProgress(value=0.0, max=3.0), HTML(value='')))"
      ]
     },
     "metadata": {},
     "output_type": "display_data"
    },
    {
     "data": {
      "application/vnd.jupyter.widget-view+json": {
       "model_id": "",
       "version_major": 2,
       "version_minor": 0
      },
      "text/plain": [
       "HBox(children=(FloatProgress(value=0.0, max=4.0), HTML(value='')))"
      ]
     },
     "metadata": {},
     "output_type": "display_data"
    },
    {
     "data": {
      "application/vnd.jupyter.widget-view+json": {
       "model_id": "",
       "version_major": 2,
       "version_minor": 0
      },
      "text/plain": [
       "HBox(children=(FloatProgress(value=0.0, max=4.0), HTML(value='')))"
      ]
     },
     "metadata": {},
     "output_type": "display_data"
    },
    {
     "data": {
      "application/vnd.jupyter.widget-view+json": {
       "model_id": "",
       "version_major": 2,
       "version_minor": 0
      },
      "text/plain": [
       "HBox(children=(FloatProgress(value=0.0, max=4.0), HTML(value='')))"
      ]
     },
     "metadata": {},
     "output_type": "display_data"
    },
    {
     "data": {
      "application/vnd.jupyter.widget-view+json": {
       "model_id": "",
       "version_major": 2,
       "version_minor": 0
      },
      "text/plain": [
       "HBox(children=(FloatProgress(value=0.0, max=4.0), HTML(value='')))"
      ]
     },
     "metadata": {},
     "output_type": "display_data"
    },
    {
     "data": {
      "application/vnd.jupyter.widget-view+json": {
       "model_id": "",
       "version_major": 2,
       "version_minor": 0
      },
      "text/plain": [
       "HBox(children=(FloatProgress(value=0.0, max=4.0), HTML(value='')))"
      ]
     },
     "metadata": {},
     "output_type": "display_data"
    },
    {
     "name": "stdout",
     "output_type": "stream",
     "text": [
      "\r"
     ]
    },
    {
     "data": {
      "text/plain": [
       "189"
      ]
     },
     "execution_count": 4,
     "metadata": {},
     "output_type": "execute_result"
    }
   ],
   "source": [
    "\n",
    "from tqdm.notebook import tqdm\n",
    "\n",
    "def get_df_from_results(res):\n",
    "    exposure2020 = np.array([1./np.log2(2+i) for i in range(1,np.diff(ds2020.dlr).max()+2)])\n",
    "    exposure2019 = np.array([1./np.log2(2+i) for i in range(1,np.diff(ds2019.dlr).max()+2)])\n",
    "    exposuremslr = np.array([1./np.log2(2+i) for i in range(1,np.diff(dsmslr.dlr).max()+2)])\n",
    "\n",
    "\n",
    "    dfl = []\n",
    "    for alg in tqdm(res, leave=False):\n",
    "        _res = res[alg]\n",
    "#         if 'PPG_single_1_2' in alg:\n",
    "#             continue\n",
    "#         print(alg)\n",
    "        alg_params = alg.split('_')\n",
    "    #     print(alg, '-'*30)\n",
    "        sessions_cnt = int(alg_params[2])\n",
    "        metric = alg_params[-1]\n",
    "        learner = alg_params[1] + '_' + alg_params[0]\n",
    "#         if len(alg_params) > 5:\n",
    "#             learner = alg_params[1] + alg_params[2] + '_' + alg_params[0]\n",
    "\n",
    "        for key in tqdm(_res, leave=False):\n",
    "            if '2019' in key:\n",
    "                year = 2019\n",
    "                ds = ds2019\n",
    "                exposure = exposure2019\n",
    "            elif '2020' in key:\n",
    "                year = 2020\n",
    "                ds = ds2020\n",
    "                exposure = exposure2020\n",
    "            else:\n",
    "                year = 'mslr'\n",
    "                ds = dsmslr\n",
    "                exposure = exposuremslr\n",
    "\n",
    "            \n",
    "            lr = key.split('_')[-3]\n",
    "            samples = int(key.split('_')[-2])\n",
    "            ind = int(key.split('_')[-1])\n",
    "            eel_res, ndcg = evaluate_all(metric, ds.valids[metric], ds.lv, ds.g, ds.dlr, _res[key], exposure, sessions_cnt=sessions_cnt)\n",
    "            dfl.append({'ind':ind, 'year':year, 'metric':metric, 'learner':learner, 'true_labels':'lv' in key,\n",
    "            'samples':samples, 'sessions':sessions_cnt, 'lr':lr, 'Fairness':eel_res.mean(), 'NDCG':ndcg.mean()})\n",
    "\n",
    "    return pd.DataFrame(dfl)\n",
    "\n",
    "\n",
    "df2 = get_df_from_results(res)\n",
    "len(df2)"
   ]
  },
  {
   "cell_type": "code",
   "execution_count": 5,
   "metadata": {},
   "outputs": [],
   "source": [
    "import pickle\n",
    "with open('mslr_n.pkl', 'wb') as f:\n",
    "    pickle.dump(df2, f)"
   ]
  },
  {
   "cell_type": "code",
   "execution_count": 9,
   "metadata": {},
   "outputs": [],
   "source": [
    "def print_df(df, sessions):\n",
    "    gdf = df.loc[df.sessions==sessions].groupby(['year', 'true_labels'])\n",
    "\n",
    "    for n, d in gdf:\n",
    "        d = d.loc[:,['learner', 'metric', 'Fairness', 'NDCG']]\n",
    "        ptbl = d.pivot_table(index='learner', columns=['metric'], values=['Fairness', 'NDCG'], aggfunc=np.mean)\n",
    "        print(n)\n",
    "        print(ptbl)\n",
    "#     print(ptbl.to_csv(header=False, index=True, float_format='%.3f').replace(',','&').replace('PL_nointra', 'PL').replace('PPG_intra', 'PPG + intra').replace('\\n', '\\\\\\\\\\n&                      & '))\n",
    "    "
   ]
  },
  {
   "cell_type": "code",
   "execution_count": 10,
   "metadata": {},
   "outputs": [
    {
     "name": "stdout",
     "output_type": "stream",
     "text": [
      "1 ==============================\n",
      "('mslr', False)\n",
      "                   Fairness                NDCG          \n",
      "metric                  DTR       EEL       DTR       EEL\n",
      "learner                                                  \n",
      "RAND_nointra       0.930552  0.139894  0.390617  0.394529\n",
      "ltroutput_nointra  0.823925  0.114186  0.572315  0.572315\n",
      "('mslr', True)\n",
      "                   Fairness               NDCG         \n",
      "metric                  DTR       EEL      DTR      EEL\n",
      "learner                                                \n",
      "RAND_nointra       0.931230  0.141152  0.39276  0.39285\n",
      "ltroutput_nointra  0.548063  0.027232  1.00000  1.00000\n",
      "2 ==============================\n",
      "('mslr', False)\n",
      "                   Fairness                NDCG          \n",
      "metric                  DTR       EEL       DTR       EEL\n",
      "learner                                                  \n",
      "RAND_nointra       0.904694  0.097699  0.392435  0.393418\n",
      "ltroutput_nointra  0.823925  0.114186  0.572315  0.572315\n",
      "('mslr', True)\n",
      "                   Fairness                NDCG          \n",
      "metric                  DTR       EEL       DTR       EEL\n",
      "learner                                                  \n",
      "RAND_nointra       0.894758  0.099302  0.392026  0.392356\n",
      "ltroutput_nointra  0.548063  0.027232  1.000000  1.000000\n",
      "4 ==============================\n",
      "('mslr', False)\n",
      "                   Fairness                NDCG          \n",
      "metric                  DTR       EEL       DTR       EEL\n",
      "learner                                                  \n",
      "RAND_nointra       0.893264  0.081052  0.394608  0.391910\n",
      "ltroutput_nointra  0.823925  0.114186  0.572315  0.572315\n",
      "('mslr', True)\n",
      "                   Fairness                NDCG          \n",
      "metric                  DTR       EEL       DTR       EEL\n",
      "learner                                                  \n",
      "RAND_nointra       0.889076  0.081477  0.394002  0.391686\n",
      "ltroutput_nointra  0.548063  0.027232  1.000000  1.000000\n",
      "8 ==============================\n",
      "('mslr', False)\n",
      "                   Fairness                NDCG          \n",
      "metric                  DTR       EEL       DTR       EEL\n",
      "learner                                                  \n",
      "RAND_nointra       0.884933  0.071163  0.393828  0.393576\n",
      "ltroutput_nointra  0.823925  0.114186  0.572315  0.572315\n",
      "('mslr', True)\n",
      "                   Fairness                NDCG          \n",
      "metric                  DTR       EEL       DTR       EEL\n",
      "learner                                                  \n",
      "RAND_nointra       0.881275  0.072506  0.393269  0.394452\n",
      "ltroutput_nointra  0.548063  0.027232  1.000000  1.000000\n",
      "16 ==============================\n",
      "('mslr', False)\n",
      "                   Fairness                NDCG          \n",
      "metric                  DTR       EEL       DTR       EEL\n",
      "learner                                                  \n",
      "RAND_nointra       0.876484  0.067285  0.393228  0.392625\n",
      "ltroutput_nointra  0.823925  0.114186  0.572315  0.572315\n",
      "('mslr', True)\n",
      "                   Fairness                NDCG          \n",
      "metric                  DTR       EEL       DTR       EEL\n",
      "learner                                                  \n",
      "RAND_nointra       0.879302  0.065688  0.393626  0.392922\n",
      "ltroutput_nointra  0.548063  0.027232  1.000000  1.000000\n",
      "32 ==============================\n",
      "('mslr', False)\n",
      "                   Fairness                NDCG          \n",
      "metric                  DTR       EEL       DTR       EEL\n",
      "learner                                                  \n",
      "RAND_nointra       0.876041  0.065179  0.393721  0.393209\n",
      "ltroutput_nointra  0.823925  0.114186  0.572315  0.572315\n",
      "('mslr', True)\n",
      "                   Fairness                NDCG          \n",
      "metric                  DTR       EEL       DTR       EEL\n",
      "learner                                                  \n",
      "RAND_nointra       0.877958  0.064530  0.393012  0.392974\n",
      "ltroutput_nointra  0.548063  0.027232  1.000000  1.000000\n"
     ]
    }
   ],
   "source": [
    "for s in [1,2,4,8,16,32]:\n",
    "    print(s, '='*30)\n",
    "    print_df(df2, s)"
   ]
  },
  {
   "cell_type": "code",
   "execution_count": 58,
   "metadata": {},
   "outputs": [
    {
     "name": "stdout",
     "output_type": "stream",
     "text": [
      "1 ==============================\n",
      "(2019, False)\n",
      "             Fairness                NDCG          \n",
      "metric            DTR       EEL       DTR       EEL\n",
      "learner                                            \n",
      "PL_nointra   0.944041  0.050435  0.807647  0.785057\n",
      "PPG_intra    0.931118  0.047584  0.813338  0.797277\n",
      "PPG_nointra  0.933383  0.047410  0.810100  0.788975\n",
      "(2020, False)\n",
      "             Fairness                NDCG          \n",
      "metric            DTR       EEL       DTR       EEL\n",
      "learner                                            \n",
      "PL_nointra   1.968721  0.173543  0.370768  0.363026\n",
      "PPG_intra    1.982259  0.158058  0.364994  0.378790\n",
      "PPG_nointra  1.980241  0.158162  0.368536  0.390616\n",
      "2 ==============================\n",
      "(2019, False)\n",
      "             Fairness                NDCG          \n",
      "metric            DTR       EEL       DTR       EEL\n",
      "learner                                            \n",
      "PL_nointra   0.947393  0.050707  0.810826  0.788554\n",
      "PPG_intra    0.940532  0.047447  0.809882  0.791908\n",
      "PPG_nointra  0.934760  0.047448  0.804528  0.779151\n",
      "(2020, False)\n",
      "             Fairness                NDCG          \n",
      "metric            DTR       EEL       DTR       EEL\n",
      "learner                                            \n",
      "PL_nointra   1.982161  0.167484  0.365640  0.381477\n",
      "PPG_intra    1.977398  0.158019  0.368883  0.376870\n",
      "PPG_nointra  1.973425  0.158069  0.363224  0.380746\n",
      "4 ==============================\n",
      "(2019, False)\n",
      "             Fairness                NDCG          \n",
      "metric            DTR       EEL       DTR       EEL\n",
      "learner                                            \n",
      "PL_nointra   0.939455  0.050660  0.811715  0.788648\n",
      "PPG_intra    0.939467  0.047400  0.811070  0.790813\n",
      "PPG_nointra  0.920685  0.047358  0.801195  0.774694\n",
      "(2020, False)\n",
      "             Fairness                NDCG          \n",
      "metric            DTR       EEL       DTR       EEL\n",
      "learner                                            \n",
      "PL_nointra   1.978299  0.160948  0.352808  0.368277\n",
      "PPG_intra    1.977622  0.158035  0.370010  0.378756\n",
      "PPG_nointra  1.963418  0.158017  0.358006  0.383675\n",
      "8 ==============================\n",
      "(2019, False)\n",
      "            Fairness                NDCG          \n",
      "metric           DTR       EEL       DTR       EEL\n",
      "learner                                           \n",
      "PL_nointra  0.941008  0.050026  0.810257  0.791538\n",
      "(2020, False)\n",
      "            Fairness                NDCG          \n",
      "metric           DTR       EEL       DTR       EEL\n",
      "learner                                           \n",
      "PL_nointra  1.974822  0.161985  0.378448  0.388438\n",
      "16 ==============================\n",
      "(2019, False)\n",
      "            Fairness                NDCG          \n",
      "metric           DTR       EEL       DTR       EEL\n",
      "learner                                           \n",
      "PL_nointra  0.938819  0.049533  0.806282  0.787747\n",
      "(2020, False)\n",
      "            Fairness                NDCG          \n",
      "metric           DTR       EEL       DTR       EEL\n",
      "learner                                           \n",
      "PL_nointra  1.977638  0.160654  0.378552  0.384058\n",
      "32 ==============================\n",
      "(2019, False)\n",
      "            Fairness                NDCG          \n",
      "metric           DTR       EEL       DTR       EEL\n",
      "learner                                           \n",
      "PL_nointra  0.940519  0.050201  0.808897  0.785296\n",
      "(2020, False)\n",
      "            Fairness                NDCG          \n",
      "metric           DTR       EEL       DTR       EEL\n",
      "learner                                           \n",
      "PL_nointra  1.978323  0.163865  0.363115  0.385133\n"
     ]
    }
   ],
   "source": [
    "for s in [1,2,4,8,16,32]:\n",
    "    print(s, '='*30)\n",
    "    print_df(df2, s)"
   ]
  },
  {
   "cell_type": "code",
   "execution_count": 9,
   "metadata": {},
   "outputs": [
    {
     "name": "stdout",
     "output_type": "stream",
     "text": [
      "EEL 2019\n",
      "      Fairness      NDCG  ind      learner    lr  samples  sessions  \\\n",
      "2559  0.029041  0.757846    0   PL_nointra  0.01       32        32   \n",
      "2563  0.028032  0.758348    1   PL_nointra  0.01       32        32   \n",
      "2567  0.027258  0.757838    2   PL_nointra  0.01       16        32   \n",
      "2571  0.024298  0.758005    3   PL_nointra  0.01        8        32   \n",
      "2575  0.028760  0.757778    4   PL_nointra  0.01       32        32   \n",
      "2579  0.028516  0.759516    5   PL_nointra  0.01       32        32   \n",
      "2583  0.025579  0.756579    6   PL_nointra  0.01        8        32   \n",
      "2587  0.026532  0.757841    7   PL_nointra  0.01       16        32   \n",
      "2591  0.026982  0.757819    8   PL_nointra  0.01       16        32   \n",
      "2595  0.026735  0.758035    9   PL_nointra  0.01       16        32   \n",
      "2599  0.028714  0.757752   10   PL_nointra  0.01       32        32   \n",
      "2603  0.027769  0.758549   11   PL_nointra  0.01       32        32   \n",
      "2607  0.028628  0.758734   12   PL_nointra  0.01       32        32   \n",
      "2611  0.028337  0.759388   13   PL_nointra  0.01       32        32   \n",
      "2615  0.029338  0.756905   14   PL_nointra  0.01       32        32   \n",
      "2619  0.027668  0.755549   15   PL_nointra  0.01       16        32   \n",
      "2623  0.026576  0.758098   16   PL_nointra  0.01       16        32   \n",
      "2627  0.026635  0.756490   17   PL_nointra  0.01       16        32   \n",
      "2631  0.026092  0.761117   18   PL_nointra  0.01       16        32   \n",
      "2635  0.024758  0.758336   19   PL_nointra  0.01        8        32   \n",
      "2639  0.027985  0.756877   20   PL_nointra  0.01       32        32   \n",
      "2643  0.027539  0.760443   21   PL_nointra  0.01       16        32   \n",
      "2647  0.028000  0.760085   22   PL_nointra  0.01       32        32   \n",
      "2651  0.026675  0.758034   23   PL_nointra  0.01       16        32   \n",
      "2655  0.028615  0.758160   24   PL_nointra  0.01       32        32   \n",
      "2659  0.026076  0.754971   25   PL_nointra  0.01        8        32   \n",
      "2663  0.028081  0.759375   26   PL_nointra  0.01       32        32   \n",
      "2667  0.028210  0.757788   27   PL_nointra  0.01       32        32   \n",
      "2671  0.028059  0.757644   28   PL_nointra  0.01       32        32   \n",
      "2675  0.026995  0.758197   29   PL_nointra  0.01       16        32   \n",
      "2679  0.026874  0.757739   30   PL_nointra  0.01       16        32   \n",
      "2683  0.027529  0.757039   31   PL_nointra  0.01       16        32   \n",
      "1066  0.036202  0.792932    0    PPG_intra  0.01        8        32   \n",
      "1070  0.034798  0.793325    1    PPG_intra  0.01        4        32   \n",
      "1074  0.034679  0.793268    2    PPG_intra  0.01        4        32   \n",
      "2549  0.031634  0.754762    0  PPG_nointra  0.01       16        32   \n",
      "2553  0.031406  0.756513    1  PPG_nointra  0.01       16        32   \n",
      "2557  0.030630  0.754322    2  PPG_nointra  0.01        8        32   \n",
      "\n",
      "      true_labels  \n",
      "2559        False  \n",
      "2563        False  \n",
      "2567        False  \n",
      "2571        False  \n",
      "2575        False  \n",
      "2579        False  \n",
      "2583        False  \n",
      "2587        False  \n",
      "2591        False  \n",
      "2595        False  \n",
      "2599        False  \n",
      "2603        False  \n",
      "2607        False  \n",
      "2611        False  \n",
      "2615        False  \n",
      "2619        False  \n",
      "2623        False  \n",
      "2627        False  \n",
      "2631        False  \n",
      "2635        False  \n",
      "2639        False  \n",
      "2643        False  \n",
      "2647        False  \n",
      "2651        False  \n",
      "2655        False  \n",
      "2659        False  \n",
      "2663        False  \n",
      "2667        False  \n",
      "2671        False  \n",
      "2675        False  \n",
      "2679        False  \n",
      "2683        False  \n",
      "1066        False  \n",
      "1070        False  \n",
      "1074        False  \n",
      "2549        False  \n",
      "2553        False  \n",
      "2557        False  \n",
      "EEL 2020\n",
      "      Fairness      NDCG  ind      learner    lr  samples  sessions  \\\n",
      "2558  0.098313  0.361415    0   PL_nointra  0.01       32        32   \n",
      "2562  0.099378  0.357980    1   PL_nointra  0.01       32        32   \n",
      "2566  0.098685  0.353475    2   PL_nointra  0.01       32        32   \n",
      "2570  0.099492  0.350978    3   PL_nointra  0.01       32        32   \n",
      "2574  0.099318  0.355516    4   PL_nointra  0.01       16        32   \n",
      "2578  0.096361  0.357682    5   PL_nointra  0.01       32        32   \n",
      "2582  0.097851  0.357464    6   PL_nointra  0.01       32        32   \n",
      "2586  0.097440  0.359914    7   PL_nointra  0.01       32        32   \n",
      "2590  0.094320  0.357623    8   PL_nointra  0.01       16        32   \n",
      "2594  0.099470  0.360540    9   PL_nointra  0.01       32        32   \n",
      "2598  0.092773  0.352425   10   PL_nointra  0.01       16        32   \n",
      "2602  0.095434  0.357505   11   PL_nointra  0.01       32        32   \n",
      "2606  0.097804  0.357335   12   PL_nointra  0.01       32        32   \n",
      "2610  0.103493  0.358721   13   PL_nointra  0.01       32        32   \n",
      "2614  0.096628  0.356375   14   PL_nointra  0.01       32        32   \n",
      "2618  0.092337  0.357115   15   PL_nointra  0.01       16        32   \n",
      "2622  0.097030  0.357255   16   PL_nointra  0.01       32        32   \n",
      "2626  0.097719  0.356024   17   PL_nointra  0.01       32        32   \n",
      "2630  0.102265  0.356521   18   PL_nointra  0.01       32        32   \n",
      "2634  0.095343  0.358979   19   PL_nointra  0.01       16        32   \n",
      "2638  0.101645  0.354909   20   PL_nointra  0.01       32        32   \n",
      "2642  0.096076  0.357507   21   PL_nointra  0.01        8        32   \n",
      "2646  0.100894  0.354633   22   PL_nointra  0.01       32        32   \n",
      "2650  0.105338  0.360777   23   PL_nointra  0.01       32        32   \n",
      "2654  0.103910  0.359985   24   PL_nointra  0.01       32        32   \n",
      "2658  0.102682  0.357778   25   PL_nointra  0.01       32        32   \n",
      "2662  0.092166  0.351930   26   PL_nointra  0.01       16        32   \n",
      "2666  0.096317  0.355875   27   PL_nointra  0.01       16        32   \n",
      "2670  0.091788  0.359415   28   PL_nointra  0.01       16        32   \n",
      "2674  0.103635  0.362892   29   PL_nointra  0.01       32        32   \n",
      "2678  0.098275  0.356683   30   PL_nointra  0.01       32        32   \n",
      "2682  0.101485  0.356707   31   PL_nointra  0.01       32        32   \n",
      "1065  0.152045  0.389562    0    PPG_intra  0.01       32        32   \n",
      "1069  0.150412  0.388084    1    PPG_intra  0.01        8        32   \n",
      "1073  0.150188  0.389289    2    PPG_intra  0.01       32        32   \n",
      "2548  0.091704  0.364699    0  PPG_nointra  0.01        8        32   \n",
      "2552  0.098233  0.362308    1  PPG_nointra  0.01       32        32   \n",
      "2556  0.098111  0.367375    2  PPG_nointra  0.01       32        32   \n",
      "\n",
      "      true_labels  \n",
      "2558        False  \n",
      "2562        False  \n",
      "2566        False  \n",
      "2570        False  \n",
      "2574        False  \n",
      "2578        False  \n",
      "2582        False  \n",
      "2586        False  \n",
      "2590        False  \n",
      "2594        False  \n",
      "2598        False  \n",
      "2602        False  \n",
      "2606        False  \n",
      "2610        False  \n",
      "2614        False  \n",
      "2618        False  \n",
      "2622        False  \n",
      "2626        False  \n",
      "2630        False  \n",
      "2634        False  \n",
      "2638        False  \n",
      "2642        False  \n",
      "2646        False  \n",
      "2650        False  \n",
      "2654        False  \n",
      "2658        False  \n",
      "2662        False  \n",
      "2666        False  \n",
      "2670        False  \n",
      "2674        False  \n",
      "2678        False  \n",
      "2682        False  \n",
      "1065        False  \n",
      "1069        False  \n",
      "1073        False  \n",
      "2548        False  \n",
      "2552        False  \n",
      "2556        False  \n",
      "DTR 2019\n",
      "      Fairness      NDCG  ind      learner    lr  samples  sessions  \\\n",
      "2063  0.551756  0.757655    0   PL_nointra  0.01       32        32   \n",
      "2067  0.555116  0.758158    1   PL_nointra  0.01       32        32   \n",
      "2071  0.556633  0.757302    2   PL_nointra  0.01       16        32   \n",
      "2075  0.554285  0.755994    3   PL_nointra  0.01       32        32   \n",
      "2079  0.548831  0.756341    4   PL_nointra  0.01       32        32   \n",
      "2083  0.552050  0.757234    5   PL_nointra  0.01        8        32   \n",
      "2087  0.552105  0.757460    6   PL_nointra  0.01       16        32   \n",
      "2091  0.556465  0.757828    7   PL_nointra  0.01       16        32   \n",
      "2095  0.556220  0.757661    8   PL_nointra  0.01        8        32   \n",
      "2099  0.557782  0.757736    9   PL_nointra  0.01        8        32   \n",
      "2103  0.555751  0.757161   10   PL_nointra  0.01       32        32   \n",
      "2107  0.553973  0.756339   11   PL_nointra  0.01       32        32   \n",
      "2111  0.558766  0.756179   12   PL_nointra  0.01        8        32   \n",
      "2115  0.557161  0.758038   13   PL_nointra  0.01        8        32   \n",
      "2119  0.555055  0.756100   14   PL_nointra  0.01        8        32   \n",
      "2123  0.557871  0.756571   15   PL_nointra  0.01        4        32   \n",
      "2127  0.553837  0.755503   16   PL_nointra  0.01       32        32   \n",
      "2131  0.559457  0.757565   17   PL_nointra  0.01        4        32   \n",
      "2135  0.556396  0.754490   18   PL_nointra  0.01        8        32   \n",
      "2139  0.556544  0.756691   19   PL_nointra  0.01       32        32   \n",
      "2143  0.553392  0.758174   20   PL_nointra  0.01       32        32   \n",
      "2147  0.554907  0.756950   21   PL_nointra  0.01       32        32   \n",
      "2151  0.559059  0.756958   22   PL_nointra  0.01        4        32   \n",
      "2155  0.550368  0.757669   23   PL_nointra  0.01       16        32   \n",
      "2159  0.550450  0.757142   24   PL_nointra  0.01        8        32   \n",
      "2163  0.559256  0.753975   25   PL_nointra  0.01       32        32   \n",
      "2167  0.553131  0.755028   26   PL_nointra  0.01       16        32   \n",
      "2171  0.558154  0.757409   27   PL_nointra  0.01        8        32   \n",
      "2175  0.554259  0.757873   28   PL_nointra  0.01       16        32   \n",
      "2179  0.549454  0.758096   29   PL_nointra  0.01       32        32   \n",
      "2183  0.554861  0.755759   30   PL_nointra  0.01        8        32   \n",
      "2187  0.558031  0.757555   31   PL_nointra  0.01        8        32   \n",
      "1460  0.556251  0.788222    0    PPG_intra  0.01       32        32   \n",
      "1464  0.556339  0.787601    1    PPG_intra  0.01       32        32   \n",
      "2054  0.558957  0.752808    0  PPG_nointra  0.01       32        32   \n",
      "2058  0.557092  0.751995    1  PPG_nointra  0.01       32        32   \n",
      "\n",
      "      true_labels  \n",
      "2063        False  \n",
      "2067        False  \n",
      "2071        False  \n",
      "2075        False  \n",
      "2079        False  \n",
      "2083        False  \n",
      "2087        False  \n",
      "2091        False  \n",
      "2095        False  \n",
      "2099        False  \n",
      "2103        False  \n",
      "2107        False  \n",
      "2111        False  \n",
      "2115        False  \n",
      "2119        False  \n",
      "2123        False  \n",
      "2127        False  \n",
      "2131        False  \n",
      "2135        False  \n",
      "2139        False  \n",
      "2143        False  \n",
      "2147        False  \n",
      "2151        False  \n",
      "2155        False  \n",
      "2159        False  \n",
      "2163        False  \n",
      "2167        False  \n",
      "2171        False  \n",
      "2175        False  \n",
      "2179        False  \n",
      "2183        False  \n",
      "2187        False  \n",
      "1460        False  \n",
      "1464        False  \n",
      "2054        False  \n",
      "2058        False  \n",
      "DTR 2020\n",
      "      Fairness      NDCG  ind      learner    lr  samples  sessions  \\\n",
      "2062  1.116542  0.356498    0   PL_nointra  0.01       32        32   \n",
      "2066  1.118676  0.357003    1   PL_nointra  0.01        4        32   \n",
      "2070  1.119080  0.353790    2   PL_nointra  0.01        8        32   \n",
      "2074  1.112671  0.351899    3   PL_nointra  0.01        8        32   \n",
      "2078  1.113254  0.357188    4   PL_nointra  0.01       16        32   \n",
      "2082  1.112070  0.350646    5   PL_nointra  0.01       16        32   \n",
      "2086  1.111451  0.353899    6   PL_nointra  0.01        8        32   \n",
      "2090  1.109356  0.352334    7   PL_nointra  0.01        8        32   \n",
      "2094  1.125143  0.356223    8   PL_nointra  0.01        4        32   \n",
      "2098  1.106031  0.353651    9   PL_nointra  0.01       16        32   \n",
      "2102  1.132962  0.349615   10   PL_nointra  0.01        8        32   \n",
      "2106  1.115042  0.361096   11   PL_nointra  0.01       32        32   \n",
      "2110  1.112645  0.352539   12   PL_nointra  0.01        8        32   \n",
      "2114  1.111094  0.354090   13   PL_nointra  0.01       32        32   \n",
      "2118  1.100176  0.352776   14   PL_nointra  0.01       16        32   \n",
      "2122  1.118713  0.350548   15   PL_nointra  0.01        8        32   \n",
      "2126  1.110216  0.350422   16   PL_nointra  0.01       16        32   \n",
      "2130  1.112824  0.349792   17   PL_nointra  0.01        4        32   \n",
      "2134  1.111758  0.353731   18   PL_nointra  0.01       32        32   \n",
      "2138  1.103462  0.356554   19   PL_nointra  0.01       32        32   \n",
      "2142  1.113480  0.355254   20   PL_nointra  0.01        8        32   \n",
      "2146  1.108598  0.349621   21   PL_nointra  0.01        8        32   \n",
      "2150  1.117481  0.357592   22   PL_nointra  0.01        8        32   \n",
      "2154  1.107421  0.358454   23   PL_nointra  0.01       16        32   \n",
      "2158  1.110527  0.352015   24   PL_nointra  0.01        8        32   \n",
      "2162  1.111837  0.356337   25   PL_nointra  0.01        4        32   \n",
      "2166  1.120207  0.356153   26   PL_nointra  0.01        8        32   \n",
      "2170  1.111838  0.354951   27   PL_nointra  0.01       16        32   \n",
      "2174  1.125156  0.348094   28   PL_nointra  0.01        8        32   \n",
      "2178  1.111030  0.352419   29   PL_nointra  0.01        4        32   \n",
      "2182  1.120085  0.348530   30   PL_nointra  0.01        4        32   \n",
      "2186  1.112086  0.350980   31   PL_nointra  0.01        8        32   \n",
      "1459  1.099603  0.388402    0    PPG_intra  0.01       16        32   \n",
      "1463  1.104147  0.388777    1    PPG_intra  0.01       32        32   \n",
      "2053  1.116497  0.357182    0  PPG_nointra  0.01       32        32   \n",
      "2057  1.117265  0.353210    1  PPG_nointra  0.01       16        32   \n",
      "2061  1.119059  0.343470    2  PPG_nointra  0.01        8        32   \n",
      "\n",
      "      true_labels  \n",
      "2062        False  \n",
      "2066        False  \n",
      "2070        False  \n",
      "2074        False  \n",
      "2078        False  \n",
      "2082        False  \n",
      "2086        False  \n",
      "2090        False  \n",
      "2094        False  \n",
      "2098        False  \n",
      "2102        False  \n",
      "2106        False  \n",
      "2110        False  \n",
      "2114        False  \n",
      "2118        False  \n",
      "2122        False  \n",
      "2126        False  \n",
      "2130        False  \n",
      "2134        False  \n",
      "2138        False  \n",
      "2142        False  \n",
      "2146        False  \n",
      "2150        False  \n",
      "2154        False  \n",
      "2158        False  \n",
      "2162        False  \n",
      "2166        False  \n",
      "2170        False  \n",
      "2174        False  \n",
      "2178        False  \n",
      "2182        False  \n",
      "2186        False  \n",
      "1459        False  \n",
      "1463        False  \n",
      "2053        False  \n",
      "2057        False  \n",
      "2061        False  \n"
     ]
    }
   ],
   "source": [
    "def refine_df(df, metric, year):\n",
    "    return df.loc[(df.metric==metric) & (df.year == year), sorted(list(set(df.columns)-set(('metric', 'year'))))].sort_values(by=['sessions', 'learner'])\n",
    "\n",
    "df_ = df.loc[(df.sessions==32) & (df.true_labels==False)]\n",
    "print('EEL 2019')\n",
    "print(refine_df(df_, 'EEL', 2019).head(100))\n",
    "print('EEL 2020')\n",
    "print(refine_df(df_, 'EEL', 2020).head(100))\n",
    "print('DTR 2019')\n",
    "print(refine_df(df_, 'DTR', 2019).head(100))\n",
    "print('DTR 2020')\n",
    "print(refine_df(df_, 'DTR', 2020).head(100))"
   ]
  },
  {
   "cell_type": "code",
   "execution_count": 42,
   "metadata": {},
   "outputs": [
    {
     "name": "stderr",
     "output_type": "stream",
     "text": [
      "/home/avardas/anaconda3/lib/python3.7/site-packages/ipykernel_launcher.py:3: FutureWarning: Indexing with multiple keys (implicitly converted to a tuple of keys) will be deprecated, use a list instead.\n",
      "  This is separate from the ipykernel package so we can avoid doing imports until\n",
      "/home/avardas/anaconda3/lib/python3.7/site-packages/ipykernel_launcher.py:3: FutureWarning: Indexing with multiple keys (implicitly converted to a tuple of keys) will be deprecated, use a list instead.\n",
      "  This is separate from the ipykernel package so we can avoid doing imports until\n",
      "/home/avardas/anaconda3/lib/python3.7/site-packages/ipykernel_launcher.py:3: FutureWarning: Indexing with multiple keys (implicitly converted to a tuple of keys) will be deprecated, use a list instead.\n",
      "  This is separate from the ipykernel package so we can avoid doing imports until\n",
      "/home/avardas/anaconda3/lib/python3.7/site-packages/ipykernel_launcher.py:3: FutureWarning: Indexing with multiple keys (implicitly converted to a tuple of keys) will be deprecated, use a list instead.\n",
      "  This is separate from the ipykernel package so we can avoid doing imports until\n",
      "/home/avardas/anaconda3/lib/python3.7/site-packages/ipykernel_launcher.py:3: FutureWarning: Indexing with multiple keys (implicitly converted to a tuple of keys) will be deprecated, use a list instead.\n",
      "  This is separate from the ipykernel package so we can avoid doing imports until\n",
      "/home/avardas/anaconda3/lib/python3.7/site-packages/ipykernel_launcher.py:3: FutureWarning: Indexing with multiple keys (implicitly converted to a tuple of keys) will be deprecated, use a list instead.\n",
      "  This is separate from the ipykernel package so we can avoid doing imports until\n",
      "/home/avardas/anaconda3/lib/python3.7/site-packages/ipykernel_launcher.py:3: FutureWarning: Indexing with multiple keys (implicitly converted to a tuple of keys) will be deprecated, use a list instead.\n",
      "  This is separate from the ipykernel package so we can avoid doing imports until\n",
      "/home/avardas/anaconda3/lib/python3.7/site-packages/ipykernel_launcher.py:3: FutureWarning: Indexing with multiple keys (implicitly converted to a tuple of keys) will be deprecated, use a list instead.\n",
      "  This is separate from the ipykernel package so we can avoid doing imports until\n",
      "/home/avardas/anaconda3/lib/python3.7/site-packages/ipykernel_launcher.py:3: FutureWarning: Indexing with multiple keys (implicitly converted to a tuple of keys) will be deprecated, use a list instead.\n",
      "  This is separate from the ipykernel package so we can avoid doing imports until\n",
      "/home/avardas/anaconda3/lib/python3.7/site-packages/ipykernel_launcher.py:3: FutureWarning: Indexing with multiple keys (implicitly converted to a tuple of keys) will be deprecated, use a list instead.\n",
      "  This is separate from the ipykernel package so we can avoid doing imports until\n",
      "/home/avardas/anaconda3/lib/python3.7/site-packages/ipykernel_launcher.py:3: FutureWarning: Indexing with multiple keys (implicitly converted to a tuple of keys) will be deprecated, use a list instead.\n",
      "  This is separate from the ipykernel package so we can avoid doing imports until\n",
      "/home/avardas/anaconda3/lib/python3.7/site-packages/ipykernel_launcher.py:3: FutureWarning: Indexing with multiple keys (implicitly converted to a tuple of keys) will be deprecated, use a list instead.\n",
      "  This is separate from the ipykernel package so we can avoid doing imports until\n",
      "/home/avardas/anaconda3/lib/python3.7/site-packages/ipykernel_launcher.py:3: FutureWarning: Indexing with multiple keys (implicitly converted to a tuple of keys) will be deprecated, use a list instead.\n",
      "  This is separate from the ipykernel package so we can avoid doing imports until\n",
      "/home/avardas/anaconda3/lib/python3.7/site-packages/ipykernel_launcher.py:3: FutureWarning: Indexing with multiple keys (implicitly converted to a tuple of keys) will be deprecated, use a list instead.\n",
      "  This is separate from the ipykernel package so we can avoid doing imports until\n",
      "/home/avardas/anaconda3/lib/python3.7/site-packages/ipykernel_launcher.py:3: FutureWarning: Indexing with multiple keys (implicitly converted to a tuple of keys) will be deprecated, use a list instead.\n",
      "  This is separate from the ipykernel package so we can avoid doing imports until\n",
      "/home/avardas/anaconda3/lib/python3.7/site-packages/ipykernel_launcher.py:3: FutureWarning: Indexing with multiple keys (implicitly converted to a tuple of keys) will be deprecated, use a list instead.\n",
      "  This is separate from the ipykernel package so we can avoid doing imports until\n",
      "/home/avardas/anaconda3/lib/python3.7/site-packages/ipykernel_launcher.py:3: FutureWarning: Indexing with multiple keys (implicitly converted to a tuple of keys) will be deprecated, use a list instead.\n",
      "  This is separate from the ipykernel package so we can avoid doing imports until\n",
      "/home/avardas/anaconda3/lib/python3.7/site-packages/ipykernel_launcher.py:3: FutureWarning: Indexing with multiple keys (implicitly converted to a tuple of keys) will be deprecated, use a list instead.\n",
      "  This is separate from the ipykernel package so we can avoid doing imports until\n"
     ]
    },
    {
     "name": "stdout",
     "output_type": "stream",
     "text": [
      "DTR 2019\n",
      "                                   Fairness      NDCG\n",
      "learner     sessions true_labels                    \n",
      "PL_nointra  1        False        0.911150  0.793484\n",
      "                     True         0.689018  0.892055\n",
      "PPG_intra   1        False        0.835331  0.806363\n",
      "                     True         0.330924  0.982059\n",
      "PPG_nointra 1        False        0.836834  0.794397\n",
      "                     True         0.334919  0.873962\n",
      "DTR 2020\n",
      "                                   Fairness      NDCG\n",
      "learner     sessions true_labels                    \n",
      "PL_nointra  1        False        2.057976  0.342638\n",
      "                     True         1.795913  0.539321\n",
      "PPG_intra   1        False        1.969781  0.379178\n",
      "                     True         0.973346  0.931628\n",
      "PPG_nointra 1        False        1.971472  0.341131\n",
      "                     True         1.011618  0.412758\n",
      "EEL 2019\n",
      "                                   Fairness      NDCG\n",
      "learner     sessions true_labels                    \n",
      "PL_nointra  1        False        0.059154  0.760116\n",
      "                     True         0.030364  0.879199\n",
      "PPG_intra   1        False        0.047467  0.799874\n",
      "                     True         0.000624  0.996177\n",
      "PPG_nointra 1        False        0.044131  0.766821\n",
      "                     True         0.000536  0.861966\n",
      "EEL 2020\n",
      "                                   Fairness      NDCG\n",
      "learner     sessions true_labels                    \n",
      "PL_nointra  1        False        0.176388  0.360124\n",
      "                     True         0.101797  0.572352\n",
      "PPG_intra   1        False        0.157458  0.390894\n",
      "                     True         0.000441  0.992114\n",
      "PPG_nointra 1        False        0.144218  0.351926\n",
      "                     True         0.000474  0.448499\n",
      "==============================\n",
      "DTR 2019\n",
      "                                   Fairness      NDCG\n",
      "learner     sessions true_labels                    \n",
      "PL_nointra  2        False        0.863827  0.792666\n",
      "                     True         0.662191  0.891048\n",
      "PPG_intra   2        False        0.826749  0.809655\n",
      "                     True         0.357511  0.981235\n",
      "PPG_nointra 2        False        0.824757  0.790712\n",
      "                     True         0.360159  0.840719\n",
      "DTR 2020\n",
      "                                   Fairness      NDCG\n",
      "learner     sessions true_labels                    \n",
      "PL_nointra  2        False        2.005014  0.339087\n",
      "                     True         1.756824  0.540817\n",
      "PPG_intra   2        False        1.968839  0.379730\n",
      "                     True         1.077707  0.944380\n",
      "PPG_nointra 2        False        1.967033  0.337996\n",
      "                     True         1.140488  0.365598\n",
      "EEL 2019\n",
      "                                   Fairness      NDCG\n",
      "learner     sessions true_labels                    \n",
      "PL_nointra  2        False        0.042094  0.756987\n",
      "                     True         0.015856  0.878231\n",
      "PPG_intra   2        False        0.044328  0.797050\n",
      "                     True         0.000133  0.989224\n",
      "PPG_nointra 2        False        0.040430  0.756600\n",
      "                     True         0.000148  0.814637\n",
      "EEL 2020\n",
      "                                   Fairness      NDCG\n",
      "learner     sessions true_labels                    \n",
      "PL_nointra  2        False        0.133756  0.360057\n",
      "                     True         0.057300  0.576281\n",
      "PPG_intra   2        False        0.157124  0.387514\n",
      "                     True         0.000376  0.983451\n",
      "PPG_nointra 2        False        0.133887  0.354479\n",
      "                     True         0.001632  0.379377\n",
      "==============================\n",
      "DTR 2019\n",
      "                                   Fairness      NDCG\n",
      "learner     sessions true_labels                    \n",
      "PL_nointra  4        False        0.846219  0.791981\n",
      "                     True         0.632220  0.891824\n",
      "PPG_intra   4        False        0.823660  0.808712\n",
      "                     True         0.399327  0.981242\n",
      "PPG_nointra 4        False        0.822950  0.786734\n",
      "                     True         0.417263  0.801934\n",
      "DTR 2020\n",
      "                                   Fairness      NDCG\n",
      "learner     sessions true_labels                    \n",
      "PL_nointra  4        False        1.972522  0.339437\n",
      "                     True         1.721884  0.545183\n",
      "PPG_intra   4        False        1.966666  0.380935\n",
      "                     True         1.173536  0.951633\n",
      "PPG_nointra 4        False        1.967039  0.337180\n",
      "                     True         1.292063  0.331681\n",
      "EEL 2019\n",
      "                                   Fairness      NDCG\n",
      "learner     sessions true_labels                    \n",
      "PL_nointra  4        False        0.034091  0.757479\n",
      "                     True         0.008312  0.881167\n",
      "PPG_intra   4        False        0.040682  0.794171\n",
      "                     True         0.000201  0.983250\n",
      "PPG_nointra 4        False        0.037306  0.753681\n",
      "                     True         0.000490  0.773809\n",
      "EEL 2020\n",
      "                                   Fairness      NDCG\n",
      "learner     sessions true_labels                    \n",
      "PL_nointra  4        False        0.116498  0.358380\n",
      "                     True         0.035780  0.576984\n",
      "PPG_intra   4        False        0.156330  0.388382\n",
      "                     True         0.001305  0.973742\n",
      "PPG_nointra 4        False        0.118824  0.354387\n",
      "                     True         0.004857  0.357361\n",
      "==============================\n",
      "DTR 2019\n",
      "                                   Fairness      NDCG\n",
      "learner     sessions true_labels                    \n",
      "PL_nointra  8        False        0.835530  0.791873\n",
      "                     True         0.621556  0.891585\n",
      "PPG_intra   8        False        0.823114  0.809188\n",
      "                     True         0.457319  0.979629\n",
      "PPG_nointra 8        False        0.822501  0.784916\n",
      "                     True         0.483175  0.783193\n",
      "DTR 2020\n",
      "                                   Fairness      NDCG\n",
      "learner     sessions true_labels                    \n",
      "PL_nointra  8        False        1.969871  0.339829\n",
      "                     True         1.709997  0.542619\n",
      "PPG_intra   8        False        1.961513  0.381377\n",
      "                     True         1.277966  0.952254\n",
      "PPG_nointra 8        False        1.966603  0.339029\n",
      "                     True         1.426915  0.338489\n",
      "EEL 2019\n",
      "                                   Fairness      NDCG\n",
      "learner     sessions true_labels                    \n",
      "PL_nointra  8        False        0.030408  0.758608\n",
      "                     True         0.004902  0.881175\n",
      "PPG_intra   8        False        0.038409  0.793291\n",
      "                     True         0.000398  0.979250\n",
      "PPG_nointra 8        False        0.034593  0.752512\n",
      "                     True         0.001096  0.760044\n",
      "EEL 2020\n",
      "                                   Fairness      NDCG\n",
      "learner     sessions true_labels                    \n",
      "PL_nointra  8        False        0.105099  0.356898\n",
      "                     True         0.024220  0.576887\n",
      "PPG_intra   8        False        0.154386  0.387514\n",
      "                     True         0.003372  0.966150\n",
      "PPG_nointra 8        False        0.111854  0.358479\n",
      "                     True         0.009247  0.367253\n",
      "==============================\n",
      "DTR 2019\n",
      "                                   Fairness      NDCG\n",
      "learner     sessions true_labels                    \n",
      "PL_nointra  16       False        0.825449  0.792432\n",
      "                     True         0.609622  0.891670\n",
      "PPG_intra   16       False        0.822384  0.809250\n",
      "                     True         0.514661  0.978417\n",
      "PPG_nointra 16       False        0.823721  0.784727\n",
      "                     True         0.552912  0.790899\n",
      "DTR 2020\n",
      "                                   Fairness      NDCG\n",
      "learner     sessions true_labels                    \n",
      "PL_nointra  16       False        1.960289  0.341354\n",
      "                     True         1.688592  0.543158\n",
      "PPG_intra   16       False        1.954871  0.382253\n",
      "                     True         1.382447  0.953647\n",
      "PPG_nointra 16       False        1.967073  0.340651\n",
      "                     True         1.537395  0.353434\n",
      "EEL 2019\n",
      "                                   Fairness      NDCG\n",
      "learner     sessions true_labels                    \n",
      "PL_nointra  16       False        0.028915  0.758035\n",
      "                     True         0.002959  0.882813\n",
      "PPG_intra   16       False        0.036291  0.793363\n",
      "                     True         0.000884  0.976115\n",
      "PPG_nointra 16       False        0.032527  0.753314\n",
      "                     True         0.001951  0.773916\n",
      "EEL 2020\n",
      "                                   Fairness      NDCG\n",
      "learner     sessions true_labels                    \n",
      "PL_nointra  16       False        0.100819  0.356561\n",
      "                     True         0.017929  0.577786\n",
      "PPG_intra   16       False        0.152219  0.388282\n",
      "                     True         0.006633  0.962511\n",
      "PPG_nointra 16       False        0.101732  0.361024\n",
      "                     True         0.014619  0.393819\n",
      "==============================\n",
      "DTR 2019\n",
      "                                   Fairness      NDCG\n",
      "learner     sessions true_labels                    \n",
      "PL_nointra  32       False        0.819984  0.792534\n",
      "                     True         0.596756  0.892884\n",
      "PPG_intra   32       False        0.821833  0.809082\n",
      "                     True         0.552371  0.978098\n",
      "PPG_nointra 32       False        0.824389  0.786677\n",
      "                     True         0.598365  0.803146\n",
      "DTR 2020\n",
      "                                   Fairness      NDCG\n",
      "learner     sessions true_labels                    \n",
      "PL_nointra  32       False        1.959535  0.340004\n",
      "                     True         1.681370  0.543756\n",
      "PPG_intra   32       False        1.938483  0.382232\n",
      "                     True         1.448241  0.957374\n",
      "PPG_nointra 32       False        1.966161  0.339619\n",
      "                     True         1.607224  0.394935\n",
      "EEL 2019\n",
      "                                   Fairness      NDCG\n",
      "learner     sessions true_labels                    \n",
      "PL_nointra  32       False        0.027403  0.758027\n",
      "                     True         0.002109  0.883410\n",
      "PPG_intra   32       False        0.035226  0.793175\n",
      "                     True         0.001522  0.974673\n",
      "PPG_nointra 32       False        0.031224  0.755199\n",
      "                     True         0.003281  0.793295\n"
     ]
    },
    {
     "name": "stdout",
     "output_type": "stream",
     "text": [
      "EEL 2020\n",
      "                                   Fairness      NDCG\n",
      "learner     sessions true_labels                    \n",
      "PL_nointra  32       False        0.098302  0.357185\n",
      "                     True         0.014967  0.578785\n",
      "PPG_intra   32       False        0.150882  0.388978\n",
      "                     True         0.010413  0.961728\n",
      "PPG_nointra 32       False        0.096016  0.364794\n",
      "                     True         0.022942  0.424524\n",
      "==============================\n"
     ]
    },
    {
     "name": "stderr",
     "output_type": "stream",
     "text": [
      "/home/avardas/anaconda3/lib/python3.7/site-packages/ipykernel_launcher.py:3: FutureWarning: Indexing with multiple keys (implicitly converted to a tuple of keys) will be deprecated, use a list instead.\n",
      "  This is separate from the ipykernel package so we can avoid doing imports until\n",
      "/home/avardas/anaconda3/lib/python3.7/site-packages/ipykernel_launcher.py:3: FutureWarning: Indexing with multiple keys (implicitly converted to a tuple of keys) will be deprecated, use a list instead.\n",
      "  This is separate from the ipykernel package so we can avoid doing imports until\n",
      "/home/avardas/anaconda3/lib/python3.7/site-packages/ipykernel_launcher.py:3: FutureWarning: Indexing with multiple keys (implicitly converted to a tuple of keys) will be deprecated, use a list instead.\n",
      "  This is separate from the ipykernel package so we can avoid doing imports until\n",
      "/home/avardas/anaconda3/lib/python3.7/site-packages/ipykernel_launcher.py:3: FutureWarning: Indexing with multiple keys (implicitly converted to a tuple of keys) will be deprecated, use a list instead.\n",
      "  This is separate from the ipykernel package so we can avoid doing imports until\n",
      "/home/avardas/anaconda3/lib/python3.7/site-packages/ipykernel_launcher.py:3: FutureWarning: Indexing with multiple keys (implicitly converted to a tuple of keys) will be deprecated, use a list instead.\n",
      "  This is separate from the ipykernel package so we can avoid doing imports until\n",
      "/home/avardas/anaconda3/lib/python3.7/site-packages/ipykernel_launcher.py:3: FutureWarning: Indexing with multiple keys (implicitly converted to a tuple of keys) will be deprecated, use a list instead.\n",
      "  This is separate from the ipykernel package so we can avoid doing imports until\n"
     ]
    }
   ],
   "source": [
    "def get_mean(df, metric, year, sessions):\n",
    "    df_ = df.loc[(df.metric==metric) & (df.year == year) & (df.sessions==sessions), :]\n",
    "    return df_.groupby(['learner', 'sessions', 'true_labels'])['Fairness', 'NDCG'].apply(np.mean)\n",
    "    \n",
    "for sessions in [1,2,4,8,16,32]:\n",
    "    print('DTR 2019\\n', get_mean(df2, 'DTR', 2019, sessions))\n",
    "    print('DTR 2020\\n', get_mean(df2, 'DTR', 2020, sessions))\n",
    "    print('EEL 2019\\n', get_mean(df2, 'EEL', 2019, sessions))\n",
    "    print('EEL 2020\\n', get_mean(df2, 'EEL', 2020, sessions))\n",
    "    print('='*30)"
   ]
  },
  {
   "cell_type": "code",
   "execution_count": 45,
   "metadata": {},
   "outputs": [
    {
     "name": "stdout",
     "output_type": "stream",
     "text": [
      "DTR 2019\n",
      " learner      sessions  true_labels\n",
      "PL_nointra   1         True           32\n",
      "PPG_intra    1         True           32\n",
      "PPG_nointra  1         True           32\n",
      "dtype: int64\n",
      "==============================\n",
      "DTR 2019\n",
      " learner      sessions  true_labels\n",
      "PL_nointra   2         True           32\n",
      "PPG_intra    2         True           32\n",
      "PPG_nointra  2         True           32\n",
      "dtype: int64\n",
      "==============================\n",
      "DTR 2019\n",
      " learner      sessions  true_labels\n",
      "PL_nointra   4         True           32\n",
      "PPG_intra    4         True           32\n",
      "PPG_nointra  4         True           32\n",
      "dtype: int64\n",
      "==============================\n",
      "DTR 2019\n",
      " learner      sessions  true_labels\n",
      "PL_nointra   8         True           32\n",
      "PPG_intra    8         True           29\n",
      "PPG_nointra  8         True           18\n",
      "dtype: int64\n",
      "==============================\n",
      "DTR 2019\n",
      " learner      sessions  true_labels\n",
      "PL_nointra   16        True           32\n",
      "PPG_intra    16        True            8\n",
      "PPG_nointra  16        True            7\n",
      "dtype: int64\n",
      "==============================\n",
      "DTR 2019\n",
      " learner      sessions  true_labels\n",
      "PL_nointra   32        True           32\n",
      "PPG_intra    32        True            2\n",
      "PPG_nointra  32        True            2\n",
      "dtype: int64\n",
      "==============================\n"
     ]
    },
    {
     "name": "stderr",
     "output_type": "stream",
     "text": [
      "/home/avardas/anaconda3/lib/python3.7/site-packages/ipykernel_launcher.py:3: FutureWarning: Indexing with multiple keys (implicitly converted to a tuple of keys) will be deprecated, use a list instead.\n",
      "  This is separate from the ipykernel package so we can avoid doing imports until\n",
      "/home/avardas/anaconda3/lib/python3.7/site-packages/ipykernel_launcher.py:3: FutureWarning: Indexing with multiple keys (implicitly converted to a tuple of keys) will be deprecated, use a list instead.\n",
      "  This is separate from the ipykernel package so we can avoid doing imports until\n",
      "/home/avardas/anaconda3/lib/python3.7/site-packages/ipykernel_launcher.py:3: FutureWarning: Indexing with multiple keys (implicitly converted to a tuple of keys) will be deprecated, use a list instead.\n",
      "  This is separate from the ipykernel package so we can avoid doing imports until\n",
      "/home/avardas/anaconda3/lib/python3.7/site-packages/ipykernel_launcher.py:3: FutureWarning: Indexing with multiple keys (implicitly converted to a tuple of keys) will be deprecated, use a list instead.\n",
      "  This is separate from the ipykernel package so we can avoid doing imports until\n",
      "/home/avardas/anaconda3/lib/python3.7/site-packages/ipykernel_launcher.py:3: FutureWarning: Indexing with multiple keys (implicitly converted to a tuple of keys) will be deprecated, use a list instead.\n",
      "  This is separate from the ipykernel package so we can avoid doing imports until\n",
      "/home/avardas/anaconda3/lib/python3.7/site-packages/ipykernel_launcher.py:3: FutureWarning: Indexing with multiple keys (implicitly converted to a tuple of keys) will be deprecated, use a list instead.\n",
      "  This is separate from the ipykernel package so we can avoid doing imports until\n"
     ]
    }
   ],
   "source": [
    "def random_sample_PL()"
   ]
  },
  {
   "cell_type": "code",
   "execution_count": null,
   "metadata": {},
   "outputs": [],
   "source": []
  }
 ],
 "metadata": {
  "kernelspec": {
   "display_name": "Python 3",
   "language": "python",
   "name": "python3"
  },
  "language_info": {
   "codemirror_mode": {
    "name": "ipython",
    "version": 3
   },
   "file_extension": ".py",
   "mimetype": "text/x-python",
   "name": "python",
   "nbconvert_exporter": "python",
   "pygments_lexer": "ipython3",
   "version": "3.7.6"
  }
 },
 "nbformat": 4,
 "nbformat_minor": 4
}
